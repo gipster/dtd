{
 "cells": [
  {
   "cell_type": "code",
   "execution_count": 1,
   "metadata": {},
   "outputs": [
    {
     "name": "stderr",
     "output_type": "stream",
     "text": [
      "Using TensorFlow backend.\n",
      "/home/fdz/anaconda3/lib/python3.7/site-packages/tensorflow/python/framework/dtypes.py:526: FutureWarning: Passing (type, 1) or '1type' as a synonym of type is deprecated; in a future version of numpy, it will be understood as (type, (1,)) / '(1,)type'.\n",
      "  _np_qint8 = np.dtype([(\"qint8\", np.int8, 1)])\n",
      "/home/fdz/anaconda3/lib/python3.7/site-packages/tensorflow/python/framework/dtypes.py:527: FutureWarning: Passing (type, 1) or '1type' as a synonym of type is deprecated; in a future version of numpy, it will be understood as (type, (1,)) / '(1,)type'.\n",
      "  _np_quint8 = np.dtype([(\"quint8\", np.uint8, 1)])\n",
      "/home/fdz/anaconda3/lib/python3.7/site-packages/tensorflow/python/framework/dtypes.py:528: FutureWarning: Passing (type, 1) or '1type' as a synonym of type is deprecated; in a future version of numpy, it will be understood as (type, (1,)) / '(1,)type'.\n",
      "  _np_qint16 = np.dtype([(\"qint16\", np.int16, 1)])\n",
      "/home/fdz/anaconda3/lib/python3.7/site-packages/tensorflow/python/framework/dtypes.py:529: FutureWarning: Passing (type, 1) or '1type' as a synonym of type is deprecated; in a future version of numpy, it will be understood as (type, (1,)) / '(1,)type'.\n",
      "  _np_quint16 = np.dtype([(\"quint16\", np.uint16, 1)])\n",
      "/home/fdz/anaconda3/lib/python3.7/site-packages/tensorflow/python/framework/dtypes.py:530: FutureWarning: Passing (type, 1) or '1type' as a synonym of type is deprecated; in a future version of numpy, it will be understood as (type, (1,)) / '(1,)type'.\n",
      "  _np_qint32 = np.dtype([(\"qint32\", np.int32, 1)])\n",
      "/home/fdz/anaconda3/lib/python3.7/site-packages/tensorflow/python/framework/dtypes.py:535: FutureWarning: Passing (type, 1) or '1type' as a synonym of type is deprecated; in a future version of numpy, it will be understood as (type, (1,)) / '(1,)type'.\n",
      "  np_resource = np.dtype([(\"resource\", np.ubyte, 1)])\n"
     ]
    }
   ],
   "source": [
    "import pandas as pd\n",
    "import os, glob\n",
    "import numpy as np\n",
    "\n",
    "from sklearn.metrics import mean_squared_error, mean_absolute_error, accuracy_score, confusion_matrix\n",
    "from sklearn.linear_model import LinearRegression\n",
    "from sklearn.preprocessing import MinMaxScaler\n",
    "from xgboost import XGBRegressor\n",
    "\n",
    "import sys\n",
    "sys.path.append('../models/')\n",
    "from models import build_model_cnn, build_model_gru"
   ]
  },
  {
   "cell_type": "markdown",
   "metadata": {},
   "source": [
    "# Load data and build features"
   ]
  },
  {
   "cell_type": "code",
   "execution_count": 2,
   "metadata": {},
   "outputs": [],
   "source": [
    "df_merged = pd.read_csv('../data_processed/df_fornitori.csv')\n",
    "df_merged = df_merged[df_merged['Year'] >= 2016]\n",
    "df_merged['Data_Aggiudicazione/Abilitazione'] = pd.to_datetime(df_merged['Data_Aggiudicazione/Abilitazione'],\n",
    "                                                              format=\"%Y-%m-%d\")"
   ]
  },
  {
   "cell_type": "markdown",
   "metadata": {},
   "source": [
    "### Build features"
   ]
  },
  {
   "cell_type": "code",
   "execution_count": 3,
   "metadata": {},
   "outputs": [],
   "source": [
    "to_drop = ['Partita_Iva', 'Progressivo_Partecipante', 'Denominazione_Partecipazione', 'Year', 'month', 'day', 'quarter']\n",
    "cat_toreduce = ['Denominazione_Iniziativa', 'Denominazione_Lotto', 'Provincia_Sede_legale',\n",
    "                   'Tipo_Strumento', 'Forma_Partecipazione', 'Flag_Capogruppo', 'Esito_Partecipazione',\n",
    "       'Nazione_Sede_legale', 'Regione_Sede_legale', 'Forma_Societaria']\n",
    "cat = []\n",
    "n = 10\n",
    "for col in cat_toreduce + cat:\n",
    "    if col in cat_toreduce:\n",
    "        # reduce number of categories for features in cat_toreduce. \n",
    "        # keep only top n category and replace the rest under \"other\"\n",
    "        top = df_merged[col].value_counts()[:n]\n",
    "        df_merged[col] = df_merged[col].apply(lambda x: x if x in top else 'other')\n",
    "    dummies = pd.get_dummies(df_merged[col], prefix=col)\n",
    "    df_merged = df_merged.merge(dummies, left_index=True, right_index=True)\n",
    "    df_merged.drop(col, axis=1, inplace=True)\n",
    "df_merged.drop(to_drop, axis=1, inplace=True)"
   ]
  },
  {
   "cell_type": "code",
   "execution_count": 4,
   "metadata": {},
   "outputs": [],
   "source": [
    "df_merged['ep_tot'] = sum([df_merged[col] for col in df_merged.columns if 'Esito_Partecipazione' in col])\n",
    "df_merged['target'] = df_merged['ep_tot']\n",
    "#df_merged['Esito_Partecipazione_Abilitato'] + df_merged['Esito_Partecipazione_Aggiudicatario'] + df_merged['Esito_Partecipazione_Non Aggiudicatario']"
   ]
  },
  {
   "cell_type": "code",
   "execution_count": 5,
   "metadata": {},
   "outputs": [],
   "source": [
    "agg_by = 'Data_Aggiudicazione/Abilitazione'\n",
    "cols_first = ['Year', 'month', 'day', 'quarter']\n",
    "cols = df_merged.columns.to_list()\n",
    "cols.pop(cols.index(agg_by))\n",
    "\n",
    "agg_dict = {col: 'first' if col in cols_first else 'sum' for col in cols}\n",
    "df_fin = df_merged.groupby(agg_by).agg(agg_dict)"
   ]
  },
  {
   "cell_type": "code",
   "execution_count": 6,
   "metadata": {},
   "outputs": [
    {
     "data": {
      "text/plain": [
       "<matplotlib.axes._subplots.AxesSubplot at 0x7fcd7ea12590>"
      ]
     },
     "execution_count": 6,
     "metadata": {},
     "output_type": "execute_result"
    }
   ],
   "source": [
    "df_fin['ep_tot'].plot(figsize=(15, 8))"
   ]
  },
  {
   "cell_type": "code",
   "execution_count": 7,
   "metadata": {},
   "outputs": [],
   "source": [
    "date_min = df_fin.index.min()\n",
    "date_max = df_fin.index.max()\n",
    "drange = pd.date_range(date_min, date_max, name=agg_by)\n",
    "\n",
    "df_fin = df_fin.reindex(drange)\n",
    "df_fin.fillna(0, inplace=True)"
   ]
  },
  {
   "cell_type": "code",
   "execution_count": 8,
   "metadata": {},
   "outputs": [
    {
     "name": "stdout",
     "output_type": "stream",
     "text": [
      "Denominazione_Iniziativa:  True\n",
      "Denominazione_Lotto:  True\n",
      "Provincia_Sede_legale:  True\n",
      "Tipo_Strumento:  True\n",
      "Forma_Partecipazione:  True\n",
      "Flag_Capogruppo:  True\n",
      "Esito_Partecipazione:  True\n",
      "Nazione_Sede_legale:  True\n",
      "Regione_Sede_legale:  True\n",
      "Forma_Societaria:  True\n"
     ]
    }
   ],
   "source": [
    "# sanity check\n",
    "s_ept = df_fin.target\n",
    "for cat in cat_toreduce:\n",
    "    s_di = df_fin[[col for col in df_fin.columns if cat in col]].sum(axis=1)\n",
    "    print(cat + ': ', (s_di == s_ept).all())"
   ]
  },
  {
   "cell_type": "code",
   "execution_count": 9,
   "metadata": {},
   "outputs": [
    {
     "data": {
      "text/plain": [
       "Text(0, 0.5, 'Partecipazioni')"
      ]
     },
     "execution_count": 9,
     "metadata": {},
     "output_type": "execute_result"
    },
    {
     "data": {
      "image/png": "[encoded data removed]",
      "text/plain": [
       "<Figure size 1080x576 with 1 Axes>"
      ]
     },
     "metadata": {
      "needs_background": "light"
     },
     "output_type": "display_data"
    }
   ],
   "source": [
    "ax = df_fin['target'].plot(figsize=(15, 8))\n",
    "ax.set_xlabel('Day', fontsize=18)\n",
    "ax.set_ylabel('Partecipazioni', fontsize=18)"
   ]
  },
  {
   "cell_type": "code",
   "execution_count": 10,
   "metadata": {},
   "outputs": [],
   "source": [
    "df_fin.to_csv('../data_processed/df_features_fornitori.csv')"
   ]
  },
  {
   "cell_type": "code",
   "execution_count": 11,
   "metadata": {},
   "outputs": [
    {
     "data": {
      "text/html": [
       "<div>\n",
       "<style scoped>\n",
       "    .dataframe tbody tr th:only-of-type {\n",
       "        vertical-align: middle;\n",
       "    }\n",
       "\n",
       "    .dataframe tbody tr th {\n",
       "        vertical-align: top;\n",
       "    }\n",
       "\n",
       "    .dataframe thead th {\n",
       "        text-align: right;\n",
       "    }\n",
       "</style>\n",
       "<table border=\"1\" class=\"dataframe\">\n",
       "  <thead>\n",
       "    <tr style=\"text-align: right;\">\n",
       "      <th></th>\n",
       "      <th>Denominazione_Iniziativa_BENI</th>\n",
       "      <th>Denominazione_Iniziativa_LAVORI DI MANUTENZIONE - AMBIENTE E TERRITORIO</th>\n",
       "      <th>Denominazione_Iniziativa_LAVORI DI MANUTENZIONE - BENI DEL PATRIMONIO CULTURALE</th>\n",
       "      <th>Denominazione_Iniziativa_LAVORI DI MANUTENZIONE - EDILI</th>\n",
       "      <th>Denominazione_Iniziativa_LAVORI DI MANUTENZIONE - IDRAULICI, MARITTIMI E RETI GAS</th>\n",
       "      <th>Denominazione_Iniziativa_LAVORI DI MANUTENZIONE - IMPIANTI</th>\n",
       "      <th>Denominazione_Iniziativa_LAVORI DI MANUTENZIONE - OPERE SPECIALIZZATE</th>\n",
       "      <th>Denominazione_Iniziativa_LAVORI DI MANUTENZIONE - STRADALI, FERROVIARI ED AEREI</th>\n",
       "      <th>Denominazione_Iniziativa_SERVIZI</th>\n",
       "      <th>Denominazione_Iniziativa_SERVIZI DI PULIZIA E IGIENE AMBIENTALE</th>\n",
       "      <th>...</th>\n",
       "      <th>Forma_Societaria_Professione non organizzata in ordini o collegi (cfr. L. 4/2013)</th>\n",
       "      <th>Forma_Societaria_Professione organizzata (cfr. Art. 2229 cc)</th>\n",
       "      <th>Forma_Societaria_Società Cooperativa</th>\n",
       "      <th>Forma_Societaria_Società a Responsabilità Limitata</th>\n",
       "      <th>Forma_Societaria_Società in Accomandita Semplice</th>\n",
       "      <th>Forma_Societaria_Società in Nome Collettivo</th>\n",
       "      <th>Forma_Societaria_Società per Azioni</th>\n",
       "      <th>Forma_Societaria_other</th>\n",
       "      <th>ep_tot</th>\n",
       "      <th>target</th>\n",
       "    </tr>\n",
       "    <tr>\n",
       "      <th>Data_Aggiudicazione/Abilitazione</th>\n",
       "      <th></th>\n",
       "      <th></th>\n",
       "      <th></th>\n",
       "      <th></th>\n",
       "      <th></th>\n",
       "      <th></th>\n",
       "      <th></th>\n",
       "      <th></th>\n",
       "      <th></th>\n",
       "      <th></th>\n",
       "      <th></th>\n",
       "      <th></th>\n",
       "      <th></th>\n",
       "      <th></th>\n",
       "      <th></th>\n",
       "      <th></th>\n",
       "      <th></th>\n",
       "      <th></th>\n",
       "      <th></th>\n",
       "      <th></th>\n",
       "      <th></th>\n",
       "    </tr>\n",
       "  </thead>\n",
       "  <tbody>\n",
       "    <tr>\n",
       "      <td>2016-02-01</td>\n",
       "      <td>0.0</td>\n",
       "      <td>0.0</td>\n",
       "      <td>0.0</td>\n",
       "      <td>0.0</td>\n",
       "      <td>0.0</td>\n",
       "      <td>0.0</td>\n",
       "      <td>0.0</td>\n",
       "      <td>0.0</td>\n",
       "      <td>0.0</td>\n",
       "      <td>0.0</td>\n",
       "      <td>...</td>\n",
       "      <td>0.0</td>\n",
       "      <td>0.0</td>\n",
       "      <td>0.0</td>\n",
       "      <td>0.0</td>\n",
       "      <td>0.0</td>\n",
       "      <td>0.0</td>\n",
       "      <td>2.0</td>\n",
       "      <td>0.0</td>\n",
       "      <td>2.0</td>\n",
       "      <td>2.0</td>\n",
       "    </tr>\n",
       "    <tr>\n",
       "      <td>2016-02-02</td>\n",
       "      <td>0.0</td>\n",
       "      <td>0.0</td>\n",
       "      <td>0.0</td>\n",
       "      <td>0.0</td>\n",
       "      <td>0.0</td>\n",
       "      <td>0.0</td>\n",
       "      <td>0.0</td>\n",
       "      <td>0.0</td>\n",
       "      <td>0.0</td>\n",
       "      <td>0.0</td>\n",
       "      <td>...</td>\n",
       "      <td>0.0</td>\n",
       "      <td>0.0</td>\n",
       "      <td>0.0</td>\n",
       "      <td>0.0</td>\n",
       "      <td>0.0</td>\n",
       "      <td>0.0</td>\n",
       "      <td>0.0</td>\n",
       "      <td>0.0</td>\n",
       "      <td>0.0</td>\n",
       "      <td>0.0</td>\n",
       "    </tr>\n",
       "    <tr>\n",
       "      <td>2016-02-03</td>\n",
       "      <td>0.0</td>\n",
       "      <td>0.0</td>\n",
       "      <td>0.0</td>\n",
       "      <td>0.0</td>\n",
       "      <td>0.0</td>\n",
       "      <td>0.0</td>\n",
       "      <td>0.0</td>\n",
       "      <td>0.0</td>\n",
       "      <td>0.0</td>\n",
       "      <td>0.0</td>\n",
       "      <td>...</td>\n",
       "      <td>0.0</td>\n",
       "      <td>0.0</td>\n",
       "      <td>0.0</td>\n",
       "      <td>5.0</td>\n",
       "      <td>0.0</td>\n",
       "      <td>0.0</td>\n",
       "      <td>1.0</td>\n",
       "      <td>0.0</td>\n",
       "      <td>6.0</td>\n",
       "      <td>6.0</td>\n",
       "    </tr>\n",
       "    <tr>\n",
       "      <td>2016-02-04</td>\n",
       "      <td>0.0</td>\n",
       "      <td>0.0</td>\n",
       "      <td>0.0</td>\n",
       "      <td>0.0</td>\n",
       "      <td>0.0</td>\n",
       "      <td>0.0</td>\n",
       "      <td>0.0</td>\n",
       "      <td>0.0</td>\n",
       "      <td>0.0</td>\n",
       "      <td>0.0</td>\n",
       "      <td>...</td>\n",
       "      <td>0.0</td>\n",
       "      <td>0.0</td>\n",
       "      <td>0.0</td>\n",
       "      <td>0.0</td>\n",
       "      <td>0.0</td>\n",
       "      <td>0.0</td>\n",
       "      <td>0.0</td>\n",
       "      <td>0.0</td>\n",
       "      <td>0.0</td>\n",
       "      <td>0.0</td>\n",
       "    </tr>\n",
       "    <tr>\n",
       "      <td>2016-02-05</td>\n",
       "      <td>0.0</td>\n",
       "      <td>0.0</td>\n",
       "      <td>0.0</td>\n",
       "      <td>0.0</td>\n",
       "      <td>0.0</td>\n",
       "      <td>0.0</td>\n",
       "      <td>0.0</td>\n",
       "      <td>0.0</td>\n",
       "      <td>0.0</td>\n",
       "      <td>0.0</td>\n",
       "      <td>...</td>\n",
       "      <td>0.0</td>\n",
       "      <td>0.0</td>\n",
       "      <td>0.0</td>\n",
       "      <td>1.0</td>\n",
       "      <td>0.0</td>\n",
       "      <td>0.0</td>\n",
       "      <td>0.0</td>\n",
       "      <td>1.0</td>\n",
       "      <td>2.0</td>\n",
       "      <td>2.0</td>\n",
       "    </tr>\n",
       "  </tbody>\n",
       "</table>\n",
       "<p>5 rows × 79 columns</p>\n",
       "</div>"
      ],
      "text/plain": [
       "                                  Denominazione_Iniziativa_BENI  \\\n",
       "Data_Aggiudicazione/Abilitazione                                  \n",
       "2016-02-01                                                  0.0   \n",
       "2016-02-02                                                  0.0   \n",
       "2016-02-03                                                  0.0   \n",
       "2016-02-04                                                  0.0   \n",
       "2016-02-05                                                  0.0   \n",
       "\n",
       "                                  Denominazione_Iniziativa_LAVORI DI MANUTENZIONE - AMBIENTE E TERRITORIO  \\\n",
       "Data_Aggiudicazione/Abilitazione                                                                            \n",
       "2016-02-01                                                                      0.0                         \n",
       "2016-02-02                                                                      0.0                         \n",
       "2016-02-03                                                                      0.0                         \n",
       "2016-02-04                                                                      0.0                         \n",
       "2016-02-05                                                                      0.0                         \n",
       "\n",
       "                                  Denominazione_Iniziativa_LAVORI DI MANUTENZIONE - BENI DEL PATRIMONIO CULTURALE  \\\n",
       "Data_Aggiudicazione/Abilitazione                                                                                    \n",
       "2016-02-01                                                                      0.0                                 \n",
       "2016-02-02                                                                      0.0                                 \n",
       "2016-02-03                                                                      0.0                                 \n",
       "2016-02-04                                                                      0.0                                 \n",
       "2016-02-05                                                                      0.0                                 \n",
       "\n",
       "                                  Denominazione_Iniziativa_LAVORI DI MANUTENZIONE - EDILI  \\\n",
       "Data_Aggiudicazione/Abilitazione                                                            \n",
       "2016-02-01                                                                      0.0         \n",
       "2016-02-02                                                                      0.0         \n",
       "2016-02-03                                                                      0.0         \n",
       "2016-02-04                                                                      0.0         \n",
       "2016-02-05                                                                      0.0         \n",
       "\n",
       "                                  Denominazione_Iniziativa_LAVORI DI MANUTENZIONE - IDRAULICI, MARITTIMI E RETI GAS  \\\n",
       "Data_Aggiudicazione/Abilitazione                                                                                      \n",
       "2016-02-01                                                                      0.0                                   \n",
       "2016-02-02                                                                      0.0                                   \n",
       "2016-02-03                                                                      0.0                                   \n",
       "2016-02-04                                                                      0.0                                   \n",
       "2016-02-05                                                                      0.0                                   \n",
       "\n",
       "                                  Denominazione_Iniziativa_LAVORI DI MANUTENZIONE - IMPIANTI  \\\n",
       "Data_Aggiudicazione/Abilitazione                                                               \n",
       "2016-02-01                                                                      0.0            \n",
       "2016-02-02                                                                      0.0            \n",
       "2016-02-03                                                                      0.0            \n",
       "2016-02-04                                                                      0.0            \n",
       "2016-02-05                                                                      0.0            \n",
       "\n",
       "                                  Denominazione_Iniziativa_LAVORI DI MANUTENZIONE - OPERE SPECIALIZZATE  \\\n",
       "Data_Aggiudicazione/Abilitazione                                                                          \n",
       "2016-02-01                                                                      0.0                       \n",
       "2016-02-02                                                                      0.0                       \n",
       "2016-02-03                                                                      0.0                       \n",
       "2016-02-04                                                                      0.0                       \n",
       "2016-02-05                                                                      0.0                       \n",
       "\n",
       "                                  Denominazione_Iniziativa_LAVORI DI MANUTENZIONE - STRADALI, FERROVIARI ED AEREI  \\\n",
       "Data_Aggiudicazione/Abilitazione                                                                                    \n",
       "2016-02-01                                                                      0.0                                 \n",
       "2016-02-02                                                                      0.0                                 \n",
       "2016-02-03                                                                      0.0                                 \n",
       "2016-02-04                                                                      0.0                                 \n",
       "2016-02-05                                                                      0.0                                 \n",
       "\n",
       "                                  Denominazione_Iniziativa_SERVIZI  \\\n",
       "Data_Aggiudicazione/Abilitazione                                     \n",
       "2016-02-01                                                     0.0   \n",
       "2016-02-02                                                     0.0   \n",
       "2016-02-03                                                     0.0   \n",
       "2016-02-04                                                     0.0   \n",
       "2016-02-05                                                     0.0   \n",
       "\n",
       "                                  Denominazione_Iniziativa_SERVIZI DI PULIZIA E IGIENE AMBIENTALE  \\\n",
       "Data_Aggiudicazione/Abilitazione                                                                    \n",
       "2016-02-01                                                                      0.0                 \n",
       "2016-02-02                                                                      0.0                 \n",
       "2016-02-03                                                                      0.0                 \n",
       "2016-02-04                                                                      0.0                 \n",
       "2016-02-05                                                                      0.0                 \n",
       "\n",
       "                                  ...  \\\n",
       "Data_Aggiudicazione/Abilitazione  ...   \n",
       "2016-02-01                        ...   \n",
       "2016-02-02                        ...   \n",
       "2016-02-03                        ...   \n",
       "2016-02-04                        ...   \n",
       "2016-02-05                        ...   \n",
       "\n",
       "                                  Forma_Societaria_Professione non organizzata in ordini o collegi (cfr. L. 4/2013)  \\\n",
       "Data_Aggiudicazione/Abilitazione                                                                                      \n",
       "2016-02-01                                                                      0.0                                   \n",
       "2016-02-02                                                                      0.0                                   \n",
       "2016-02-03                                                                      0.0                                   \n",
       "2016-02-04                                                                      0.0                                   \n",
       "2016-02-05                                                                      0.0                                   \n",
       "\n",
       "                                  Forma_Societaria_Professione organizzata (cfr. Art. 2229 cc)  \\\n",
       "Data_Aggiudicazione/Abilitazione                                                                 \n",
       "2016-02-01                                                                      0.0              \n",
       "2016-02-02                                                                      0.0              \n",
       "2016-02-03                                                                      0.0              \n",
       "2016-02-04                                                                      0.0              \n",
       "2016-02-05                                                                      0.0              \n",
       "\n",
       "                                  Forma_Societaria_Società Cooperativa  \\\n",
       "Data_Aggiudicazione/Abilitazione                                         \n",
       "2016-02-01                                                         0.0   \n",
       "2016-02-02                                                         0.0   \n",
       "2016-02-03                                                         0.0   \n",
       "2016-02-04                                                         0.0   \n",
       "2016-02-05                                                         0.0   \n",
       "\n",
       "                                  Forma_Societaria_Società a Responsabilità Limitata  \\\n",
       "Data_Aggiudicazione/Abilitazione                                                       \n",
       "2016-02-01                                                                      0.0    \n",
       "2016-02-02                                                                      0.0    \n",
       "2016-02-03                                                                      5.0    \n",
       "2016-02-04                                                                      0.0    \n",
       "2016-02-05                                                                      1.0    \n",
       "\n",
       "                                  Forma_Societaria_Società in Accomandita Semplice  \\\n",
       "Data_Aggiudicazione/Abilitazione                                                     \n",
       "2016-02-01                                                                     0.0   \n",
       "2016-02-02                                                                     0.0   \n",
       "2016-02-03                                                                     0.0   \n",
       "2016-02-04                                                                     0.0   \n",
       "2016-02-05                                                                     0.0   \n",
       "\n",
       "                                  Forma_Societaria_Società in Nome Collettivo  \\\n",
       "Data_Aggiudicazione/Abilitazione                                                \n",
       "2016-02-01                                                                0.0   \n",
       "2016-02-02                                                                0.0   \n",
       "2016-02-03                                                                0.0   \n",
       "2016-02-04                                                                0.0   \n",
       "2016-02-05                                                                0.0   \n",
       "\n",
       "                                  Forma_Societaria_Società per Azioni  \\\n",
       "Data_Aggiudicazione/Abilitazione                                        \n",
       "2016-02-01                                                        2.0   \n",
       "2016-02-02                                                        0.0   \n",
       "2016-02-03                                                        1.0   \n",
       "2016-02-04                                                        0.0   \n",
       "2016-02-05                                                        0.0   \n",
       "\n",
       "                                  Forma_Societaria_other  ep_tot  target  \n",
       "Data_Aggiudicazione/Abilitazione                                          \n",
       "2016-02-01                                           0.0     2.0     2.0  \n",
       "2016-02-02                                           0.0     0.0     0.0  \n",
       "2016-02-03                                           0.0     6.0     6.0  \n",
       "2016-02-04                                           0.0     0.0     0.0  \n",
       "2016-02-05                                           1.0     2.0     2.0  \n",
       "\n",
       "[5 rows x 79 columns]"
      ]
     },
     "execution_count": 11,
     "metadata": {},
     "output_type": "execute_result"
    }
   ],
   "source": [
    "df_fin.head()"
   ]
  },
  {
   "cell_type": "markdown",
   "metadata": {},
   "source": [
    "# Predict daily partecipazioni regression"
   ]
  },
  {
   "cell_type": "code",
   "execution_count": 47,
   "metadata": {},
   "outputs": [],
   "source": [
    "df_fin = pd.read_csv('../data_processed/df_features_fornitori.csv')\n",
    "df_fin['Data_Aggiudicazione/Abilitazione'] = pd.to_datetime(df_fin['Data_Aggiudicazione/Abilitazione'],\n",
    "                                                              format=\"%Y-%m-%d\")\n",
    "df_fin.set_index('Data_Aggiudicazione/Abilitazione', inplace=True)"
   ]
  },
  {
   "cell_type": "code",
   "execution_count": 48,
   "metadata": {},
   "outputs": [
    {
     "data": {
      "text/html": [
       "<div>\n",
       "<style scoped>\n",
       "    .dataframe tbody tr th:only-of-type {\n",
       "        vertical-align: middle;\n",
       "    }\n",
       "\n",
       "    .dataframe tbody tr th {\n",
       "        vertical-align: top;\n",
       "    }\n",
       "\n",
       "    .dataframe thead th {\n",
       "        text-align: right;\n",
       "    }\n",
       "</style>\n",
       "<table border=\"1\" class=\"dataframe\">\n",
       "  <thead>\n",
       "    <tr style=\"text-align: right;\">\n",
       "      <th></th>\n",
       "      <th>Denominazione_Iniziativa_BENI</th>\n",
       "      <th>Denominazione_Iniziativa_LAVORI DI MANUTENZIONE - AMBIENTE E TERRITORIO</th>\n",
       "      <th>Denominazione_Iniziativa_LAVORI DI MANUTENZIONE - BENI DEL PATRIMONIO CULTURALE</th>\n",
       "      <th>Denominazione_Iniziativa_LAVORI DI MANUTENZIONE - EDILI</th>\n",
       "      <th>Denominazione_Iniziativa_LAVORI DI MANUTENZIONE - IDRAULICI, MARITTIMI E RETI GAS</th>\n",
       "      <th>Denominazione_Iniziativa_LAVORI DI MANUTENZIONE - IMPIANTI</th>\n",
       "      <th>Denominazione_Iniziativa_LAVORI DI MANUTENZIONE - OPERE SPECIALIZZATE</th>\n",
       "      <th>Denominazione_Iniziativa_LAVORI DI MANUTENZIONE - STRADALI, FERROVIARI ED AEREI</th>\n",
       "      <th>Denominazione_Iniziativa_SERVIZI</th>\n",
       "      <th>Denominazione_Iniziativa_SERVIZI DI PULIZIA E IGIENE AMBIENTALE</th>\n",
       "      <th>...</th>\n",
       "      <th>Forma_Societaria_Professione non organizzata in ordini o collegi (cfr. L. 4/2013)</th>\n",
       "      <th>Forma_Societaria_Professione organizzata (cfr. Art. 2229 cc)</th>\n",
       "      <th>Forma_Societaria_Società Cooperativa</th>\n",
       "      <th>Forma_Societaria_Società a Responsabilità Limitata</th>\n",
       "      <th>Forma_Societaria_Società in Accomandita Semplice</th>\n",
       "      <th>Forma_Societaria_Società in Nome Collettivo</th>\n",
       "      <th>Forma_Societaria_Società per Azioni</th>\n",
       "      <th>Forma_Societaria_other</th>\n",
       "      <th>ep_tot</th>\n",
       "      <th>target</th>\n",
       "    </tr>\n",
       "    <tr>\n",
       "      <th>Data_Aggiudicazione/Abilitazione</th>\n",
       "      <th></th>\n",
       "      <th></th>\n",
       "      <th></th>\n",
       "      <th></th>\n",
       "      <th></th>\n",
       "      <th></th>\n",
       "      <th></th>\n",
       "      <th></th>\n",
       "      <th></th>\n",
       "      <th></th>\n",
       "      <th></th>\n",
       "      <th></th>\n",
       "      <th></th>\n",
       "      <th></th>\n",
       "      <th></th>\n",
       "      <th></th>\n",
       "      <th></th>\n",
       "      <th></th>\n",
       "      <th></th>\n",
       "      <th></th>\n",
       "      <th></th>\n",
       "    </tr>\n",
       "  </thead>\n",
       "  <tbody>\n",
       "    <tr>\n",
       "      <td>2016-02-01</td>\n",
       "      <td>0.0</td>\n",
       "      <td>0.0</td>\n",
       "      <td>0.0</td>\n",
       "      <td>0.0</td>\n",
       "      <td>0.0</td>\n",
       "      <td>0.0</td>\n",
       "      <td>0.0</td>\n",
       "      <td>0.0</td>\n",
       "      <td>0.0</td>\n",
       "      <td>0.0</td>\n",
       "      <td>...</td>\n",
       "      <td>0.0</td>\n",
       "      <td>0.0</td>\n",
       "      <td>0.0</td>\n",
       "      <td>0.0</td>\n",
       "      <td>0.0</td>\n",
       "      <td>0.0</td>\n",
       "      <td>2.0</td>\n",
       "      <td>0.0</td>\n",
       "      <td>2.0</td>\n",
       "      <td>2.0</td>\n",
       "    </tr>\n",
       "    <tr>\n",
       "      <td>2016-02-02</td>\n",
       "      <td>0.0</td>\n",
       "      <td>0.0</td>\n",
       "      <td>0.0</td>\n",
       "      <td>0.0</td>\n",
       "      <td>0.0</td>\n",
       "      <td>0.0</td>\n",
       "      <td>0.0</td>\n",
       "      <td>0.0</td>\n",
       "      <td>0.0</td>\n",
       "      <td>0.0</td>\n",
       "      <td>...</td>\n",
       "      <td>0.0</td>\n",
       "      <td>0.0</td>\n",
       "      <td>0.0</td>\n",
       "      <td>0.0</td>\n",
       "      <td>0.0</td>\n",
       "      <td>0.0</td>\n",
       "      <td>0.0</td>\n",
       "      <td>0.0</td>\n",
       "      <td>0.0</td>\n",
       "      <td>0.0</td>\n",
       "    </tr>\n",
       "    <tr>\n",
       "      <td>2016-02-03</td>\n",
       "      <td>0.0</td>\n",
       "      <td>0.0</td>\n",
       "      <td>0.0</td>\n",
       "      <td>0.0</td>\n",
       "      <td>0.0</td>\n",
       "      <td>0.0</td>\n",
       "      <td>0.0</td>\n",
       "      <td>0.0</td>\n",
       "      <td>0.0</td>\n",
       "      <td>0.0</td>\n",
       "      <td>...</td>\n",
       "      <td>0.0</td>\n",
       "      <td>0.0</td>\n",
       "      <td>0.0</td>\n",
       "      <td>5.0</td>\n",
       "      <td>0.0</td>\n",
       "      <td>0.0</td>\n",
       "      <td>1.0</td>\n",
       "      <td>0.0</td>\n",
       "      <td>6.0</td>\n",
       "      <td>6.0</td>\n",
       "    </tr>\n",
       "    <tr>\n",
       "      <td>2016-02-04</td>\n",
       "      <td>0.0</td>\n",
       "      <td>0.0</td>\n",
       "      <td>0.0</td>\n",
       "      <td>0.0</td>\n",
       "      <td>0.0</td>\n",
       "      <td>0.0</td>\n",
       "      <td>0.0</td>\n",
       "      <td>0.0</td>\n",
       "      <td>0.0</td>\n",
       "      <td>0.0</td>\n",
       "      <td>...</td>\n",
       "      <td>0.0</td>\n",
       "      <td>0.0</td>\n",
       "      <td>0.0</td>\n",
       "      <td>0.0</td>\n",
       "      <td>0.0</td>\n",
       "      <td>0.0</td>\n",
       "      <td>0.0</td>\n",
       "      <td>0.0</td>\n",
       "      <td>0.0</td>\n",
       "      <td>0.0</td>\n",
       "    </tr>\n",
       "    <tr>\n",
       "      <td>2016-02-05</td>\n",
       "      <td>0.0</td>\n",
       "      <td>0.0</td>\n",
       "      <td>0.0</td>\n",
       "      <td>0.0</td>\n",
       "      <td>0.0</td>\n",
       "      <td>0.0</td>\n",
       "      <td>0.0</td>\n",
       "      <td>0.0</td>\n",
       "      <td>0.0</td>\n",
       "      <td>0.0</td>\n",
       "      <td>...</td>\n",
       "      <td>0.0</td>\n",
       "      <td>0.0</td>\n",
       "      <td>0.0</td>\n",
       "      <td>1.0</td>\n",
       "      <td>0.0</td>\n",
       "      <td>0.0</td>\n",
       "      <td>0.0</td>\n",
       "      <td>1.0</td>\n",
       "      <td>2.0</td>\n",
       "      <td>2.0</td>\n",
       "    </tr>\n",
       "  </tbody>\n",
       "</table>\n",
       "<p>5 rows × 79 columns</p>\n",
       "</div>"
      ],
      "text/plain": [
       "                                  Denominazione_Iniziativa_BENI  \\\n",
       "Data_Aggiudicazione/Abilitazione                                  \n",
       "2016-02-01                                                  0.0   \n",
       "2016-02-02                                                  0.0   \n",
       "2016-02-03                                                  0.0   \n",
       "2016-02-04                                                  0.0   \n",
       "2016-02-05                                                  0.0   \n",
       "\n",
       "                                  Denominazione_Iniziativa_LAVORI DI MANUTENZIONE - AMBIENTE E TERRITORIO  \\\n",
       "Data_Aggiudicazione/Abilitazione                                                                            \n",
       "2016-02-01                                                                      0.0                         \n",
       "2016-02-02                                                                      0.0                         \n",
       "2016-02-03                                                                      0.0                         \n",
       "2016-02-04                                                                      0.0                         \n",
       "2016-02-05                                                                      0.0                         \n",
       "\n",
       "                                  Denominazione_Iniziativa_LAVORI DI MANUTENZIONE - BENI DEL PATRIMONIO CULTURALE  \\\n",
       "Data_Aggiudicazione/Abilitazione                                                                                    \n",
       "2016-02-01                                                                      0.0                                 \n",
       "2016-02-02                                                                      0.0                                 \n",
       "2016-02-03                                                                      0.0                                 \n",
       "2016-02-04                                                                      0.0                                 \n",
       "2016-02-05                                                                      0.0                                 \n",
       "\n",
       "                                  Denominazione_Iniziativa_LAVORI DI MANUTENZIONE - EDILI  \\\n",
       "Data_Aggiudicazione/Abilitazione                                                            \n",
       "2016-02-01                                                                      0.0         \n",
       "2016-02-02                                                                      0.0         \n",
       "2016-02-03                                                                      0.0         \n",
       "2016-02-04                                                                      0.0         \n",
       "2016-02-05                                                                      0.0         \n",
       "\n",
       "                                  Denominazione_Iniziativa_LAVORI DI MANUTENZIONE - IDRAULICI, MARITTIMI E RETI GAS  \\\n",
       "Data_Aggiudicazione/Abilitazione                                                                                      \n",
       "2016-02-01                                                                      0.0                                   \n",
       "2016-02-02                                                                      0.0                                   \n",
       "2016-02-03                                                                      0.0                                   \n",
       "2016-02-04                                                                      0.0                                   \n",
       "2016-02-05                                                                      0.0                                   \n",
       "\n",
       "                                  Denominazione_Iniziativa_LAVORI DI MANUTENZIONE - IMPIANTI  \\\n",
       "Data_Aggiudicazione/Abilitazione                                                               \n",
       "2016-02-01                                                                      0.0            \n",
       "2016-02-02                                                                      0.0            \n",
       "2016-02-03                                                                      0.0            \n",
       "2016-02-04                                                                      0.0            \n",
       "2016-02-05                                                                      0.0            \n",
       "\n",
       "                                  Denominazione_Iniziativa_LAVORI DI MANUTENZIONE - OPERE SPECIALIZZATE  \\\n",
       "Data_Aggiudicazione/Abilitazione                                                                          \n",
       "2016-02-01                                                                      0.0                       \n",
       "2016-02-02                                                                      0.0                       \n",
       "2016-02-03                                                                      0.0                       \n",
       "2016-02-04                                                                      0.0                       \n",
       "2016-02-05                                                                      0.0                       \n",
       "\n",
       "                                  Denominazione_Iniziativa_LAVORI DI MANUTENZIONE - STRADALI, FERROVIARI ED AEREI  \\\n",
       "Data_Aggiudicazione/Abilitazione                                                                                    \n",
       "2016-02-01                                                                      0.0                                 \n",
       "2016-02-02                                                                      0.0                                 \n",
       "2016-02-03                                                                      0.0                                 \n",
       "2016-02-04                                                                      0.0                                 \n",
       "2016-02-05                                                                      0.0                                 \n",
       "\n",
       "                                  Denominazione_Iniziativa_SERVIZI  \\\n",
       "Data_Aggiudicazione/Abilitazione                                     \n",
       "2016-02-01                                                     0.0   \n",
       "2016-02-02                                                     0.0   \n",
       "2016-02-03                                                     0.0   \n",
       "2016-02-04                                                     0.0   \n",
       "2016-02-05                                                     0.0   \n",
       "\n",
       "                                  Denominazione_Iniziativa_SERVIZI DI PULIZIA E IGIENE AMBIENTALE  \\\n",
       "Data_Aggiudicazione/Abilitazione                                                                    \n",
       "2016-02-01                                                                      0.0                 \n",
       "2016-02-02                                                                      0.0                 \n",
       "2016-02-03                                                                      0.0                 \n",
       "2016-02-04                                                                      0.0                 \n",
       "2016-02-05                                                                      0.0                 \n",
       "\n",
       "                                  ...  \\\n",
       "Data_Aggiudicazione/Abilitazione  ...   \n",
       "2016-02-01                        ...   \n",
       "2016-02-02                        ...   \n",
       "2016-02-03                        ...   \n",
       "2016-02-04                        ...   \n",
       "2016-02-05                        ...   \n",
       "\n",
       "                                  Forma_Societaria_Professione non organizzata in ordini o collegi (cfr. L. 4/2013)  \\\n",
       "Data_Aggiudicazione/Abilitazione                                                                                      \n",
       "2016-02-01                                                                      0.0                                   \n",
       "2016-02-02                                                                      0.0                                   \n",
       "2016-02-03                                                                      0.0                                   \n",
       "2016-02-04                                                                      0.0                                   \n",
       "2016-02-05                                                                      0.0                                   \n",
       "\n",
       "                                  Forma_Societaria_Professione organizzata (cfr. Art. 2229 cc)  \\\n",
       "Data_Aggiudicazione/Abilitazione                                                                 \n",
       "2016-02-01                                                                      0.0              \n",
       "2016-02-02                                                                      0.0              \n",
       "2016-02-03                                                                      0.0              \n",
       "2016-02-04                                                                      0.0              \n",
       "2016-02-05                                                                      0.0              \n",
       "\n",
       "                                  Forma_Societaria_Società Cooperativa  \\\n",
       "Data_Aggiudicazione/Abilitazione                                         \n",
       "2016-02-01                                                         0.0   \n",
       "2016-02-02                                                         0.0   \n",
       "2016-02-03                                                         0.0   \n",
       "2016-02-04                                                         0.0   \n",
       "2016-02-05                                                         0.0   \n",
       "\n",
       "                                  Forma_Societaria_Società a Responsabilità Limitata  \\\n",
       "Data_Aggiudicazione/Abilitazione                                                       \n",
       "2016-02-01                                                                      0.0    \n",
       "2016-02-02                                                                      0.0    \n",
       "2016-02-03                                                                      5.0    \n",
       "2016-02-04                                                                      0.0    \n",
       "2016-02-05                                                                      1.0    \n",
       "\n",
       "                                  Forma_Societaria_Società in Accomandita Semplice  \\\n",
       "Data_Aggiudicazione/Abilitazione                                                     \n",
       "2016-02-01                                                                     0.0   \n",
       "2016-02-02                                                                     0.0   \n",
       "2016-02-03                                                                     0.0   \n",
       "2016-02-04                                                                     0.0   \n",
       "2016-02-05                                                                     0.0   \n",
       "\n",
       "                                  Forma_Societaria_Società in Nome Collettivo  \\\n",
       "Data_Aggiudicazione/Abilitazione                                                \n",
       "2016-02-01                                                                0.0   \n",
       "2016-02-02                                                                0.0   \n",
       "2016-02-03                                                                0.0   \n",
       "2016-02-04                                                                0.0   \n",
       "2016-02-05                                                                0.0   \n",
       "\n",
       "                                  Forma_Societaria_Società per Azioni  \\\n",
       "Data_Aggiudicazione/Abilitazione                                        \n",
       "2016-02-01                                                        2.0   \n",
       "2016-02-02                                                        0.0   \n",
       "2016-02-03                                                        1.0   \n",
       "2016-02-04                                                        0.0   \n",
       "2016-02-05                                                        0.0   \n",
       "\n",
       "                                  Forma_Societaria_other  ep_tot  target  \n",
       "Data_Aggiudicazione/Abilitazione                                          \n",
       "2016-02-01                                           0.0     2.0     2.0  \n",
       "2016-02-02                                           0.0     0.0     0.0  \n",
       "2016-02-03                                           0.0     6.0     6.0  \n",
       "2016-02-04                                           0.0     0.0     0.0  \n",
       "2016-02-05                                           1.0     2.0     2.0  \n",
       "\n",
       "[5 rows x 79 columns]"
      ]
     },
     "execution_count": 48,
     "metadata": {},
     "output_type": "execute_result"
    }
   ],
   "source": [
    "df_fin.head()"
   ]
  },
  {
   "cell_type": "code",
   "execution_count": 49,
   "metadata": {},
   "outputs": [],
   "source": [
    "df_fin['target'] = df_fin['target'].shift(-1)\n",
    "df_fin.dropna(inplace=True)"
   ]
  },
  {
   "cell_type": "code",
   "execution_count": 50,
   "metadata": {},
   "outputs": [],
   "source": [
    "features = [col for col in df_fin.columns if col != 'target']\n",
    "def rolling_window(a, window):\n",
    "    shape = (a.shape[0] - window + 1, window) + a.shape[1:]\n",
    "    strides = (a.strides[0],) + a.strides\n",
    "    return np.lib.stride_tricks.as_strided(a, shape=shape, strides=strides)"
   ]
  },
  {
   "cell_type": "markdown",
   "metadata": {},
   "source": [
    "## Baselines"
   ]
  },
  {
   "cell_type": "markdown",
   "metadata": {},
   "source": [
    "### Split train test"
   ]
  },
  {
   "cell_type": "code",
   "execution_count": 51,
   "metadata": {},
   "outputs": [],
   "source": [
    "X = df_fin[features].values\n",
    "y = df_fin['target'].values\n",
    "X_train, y_train = X[:int(0.7 * len(X))], y[:int(0.7 * len(X))]\n",
    "X_test, y_test = X[int(0.7 * len(X)):], y[int(0.7 * len(X)):]"
   ]
  },
  {
   "cell_type": "code",
   "execution_count": 52,
   "metadata": {},
   "outputs": [
    {
     "data": {
      "text/plain": [
       "(456, 78)"
      ]
     },
     "execution_count": 52,
     "metadata": {},
     "output_type": "execute_result"
    }
   ],
   "source": [
    "X_test.shape"
   ]
  },
  {
   "cell_type": "markdown",
   "metadata": {},
   "source": [
    "### Scale feats"
   ]
  },
  {
   "cell_type": "code",
   "execution_count": 53,
   "metadata": {},
   "outputs": [],
   "source": [
    "scaler = MinMaxScaler()\n",
    "scaler.fit(X_train)\n",
    "X_train = scaler.transform(X_train)\n",
    "X_test = scaler.transform(X_test)"
   ]
  },
  {
   "cell_type": "markdown",
   "metadata": {},
   "source": [
    "### Mean"
   ]
  },
  {
   "cell_type": "code",
   "execution_count": 54,
   "metadata": {},
   "outputs": [],
   "source": [
    "class MeanPredictor():\n",
    "    \n",
    "    def __init__(self):\n",
    "        self.mean = None\n",
    "    \n",
    "    def fit(self, X_train, y_train):\n",
    "        self.mean = y_train.mean()\n",
    "        \n",
    "    def predict(self, X):\n",
    "        return np.full(len(X), self.mean)"
   ]
  },
  {
   "cell_type": "code",
   "execution_count": 55,
   "metadata": {},
   "outputs": [],
   "source": [
    "mp = MeanPredictor()\n",
    "mp.fit(X_train, y_train)"
   ]
  },
  {
   "cell_type": "code",
   "execution_count": 56,
   "metadata": {},
   "outputs": [
    {
     "name": "stdout",
     "output_type": "stream",
     "text": [
      "Train error: 363.870117021878\n",
      "Test error:  413.7400079145231\n"
     ]
    }
   ],
   "source": [
    "preds_train = mp.predict(X_train)\n",
    "preds_test = mp.predict(X_test) \n",
    "print('Train error:', mean_absolute_error(y_train, preds_train))\n",
    "print('Test error: ', mean_absolute_error(y_test, preds_test))"
   ]
  },
  {
   "cell_type": "markdown",
   "metadata": {},
   "source": [
    "### Linear regression"
   ]
  },
  {
   "cell_type": "code",
   "execution_count": 57,
   "metadata": {},
   "outputs": [
    {
     "data": {
      "text/plain": [
       "LinearRegression(copy_X=True, fit_intercept=True, n_jobs=None, normalize=False)"
      ]
     },
     "execution_count": 57,
     "metadata": {},
     "output_type": "execute_result"
    }
   ],
   "source": [
    "lr = LinearRegression()\n",
    "lr.fit(X_train, y_train)"
   ]
  },
  {
   "cell_type": "code",
   "execution_count": 58,
   "metadata": {},
   "outputs": [
    {
     "name": "stdout",
     "output_type": "stream",
     "text": [
      "Train error: 321.0736310792887\n",
      "Test error:  459.7918724622966\n"
     ]
    }
   ],
   "source": [
    "preds_train = lr.predict(X_train)\n",
    "preds_test = lr.predict(X_test)\n",
    "print('Train error:', mean_absolute_error(y_train, preds_train))\n",
    "print('Test error: ', mean_absolute_error(y_test, preds_test))"
   ]
  },
  {
   "cell_type": "markdown",
   "metadata": {},
   "source": [
    "### xgboost"
   ]
  },
  {
   "cell_type": "code",
   "execution_count": 59,
   "metadata": {},
   "outputs": [
    {
     "name": "stdout",
     "output_type": "stream",
     "text": [
      "[16:10:12] WARNING: /workspace/src/objective/regression_obj.cu:152: reg:linear is now deprecated in favor of reg:squarederror.\n"
     ]
    },
    {
     "data": {
      "text/plain": [
       "XGBRegressor(base_score=0.5, booster='gbtree', colsample_bylevel=1,\n",
       "             colsample_bynode=1, colsample_bytree=1, gamma=0,\n",
       "             importance_type='gain', learning_rate=0.1, max_delta_step=0,\n",
       "             max_depth=3, min_child_weight=1, missing=None, n_estimators=100,\n",
       "             n_jobs=1, nthread=None, objective='reg:linear', random_state=0,\n",
       "             reg_alpha=0, reg_lambda=1, scale_pos_weight=1, seed=None,\n",
       "             silent=None, subsample=1, verbosity=1)"
      ]
     },
     "execution_count": 59,
     "metadata": {},
     "output_type": "execute_result"
    }
   ],
   "source": [
    "xgb = XGBRegressor()\n",
    "xgb.fit(X_train, y_train)"
   ]
  },
  {
   "cell_type": "code",
   "execution_count": 60,
   "metadata": {},
   "outputs": [
    {
     "name": "stdout",
     "output_type": "stream",
     "text": [
      "Train error: 190.42247860548193\n",
      "Test error:  579.0130070176041\n"
     ]
    }
   ],
   "source": [
    "preds_train = xgb.predict(X_train)\n",
    "preds_test = xgb.predict(X_test)\n",
    "print('Train error:', mean_absolute_error(y_train, preds_train))\n",
    "print('Test error: ', mean_absolute_error(y_test, preds_test))"
   ]
  },
  {
   "cell_type": "markdown",
   "metadata": {},
   "source": [
    "## Sequences"
   ]
  },
  {
   "cell_type": "markdown",
   "metadata": {},
   "source": [
    "### Split train test"
   ]
  },
  {
   "cell_type": "code",
   "execution_count": 61,
   "metadata": {},
   "outputs": [],
   "source": [
    "window_size = 30\n",
    "X_rolled = rolling_window(X, window_size)\n",
    "y_rolled = rolling_window(y, window_size)[:, -1]\n",
    "#index_rolled = rolling_window(index.values, window_size)[:, -1]"
   ]
  },
  {
   "cell_type": "code",
   "execution_count": 62,
   "metadata": {},
   "outputs": [],
   "source": [
    "X_train, y_train = X_rolled[:int(0.7 * len(X_rolled))], y_rolled[:int(0.7 * len(y_rolled))]\n",
    "#index_train = index_rolled[:int(0.7 * len(y_rolled))]\n",
    "X_test, y_test = X_rolled[int(0.7 * len(X_rolled)):], y_rolled[int(0.7 * len(y_rolled)):]\n",
    "#index_test = index_rolled[int(0.7 * len(y_rolled)):]"
   ]
  },
  {
   "cell_type": "markdown",
   "metadata": {},
   "source": [
    "### Model gru"
   ]
  },
  {
   "cell_type": "code",
   "execution_count": 63,
   "metadata": {},
   "outputs": [],
   "source": [
    "gru = build_model_gru(X_train.shape[2], window_size, \n",
    "                      nb_hidden_1=100, nb_hidden_2=50, emb_dim=20, \n",
    "                      dropout_1=0.2, dropout_2=0.2, rec_dropout_1=0.2, rec_dropout_2=0.2, \n",
    "                      model_type='regression')"
   ]
  },
  {
   "cell_type": "code",
   "execution_count": 64,
   "metadata": {},
   "outputs": [
    {
     "name": "stdout",
     "output_type": "stream",
     "text": [
      "_________________________________________________________________\n",
      "Layer (type)                 Output Shape              Param #   \n",
      "=================================================================\n",
      "input_part (InputLayer)      (None, 30, 78)            0         \n",
      "_________________________________________________________________\n",
      "gru_5 (GRU)                  (None, 30, 100)           53700     \n",
      "_________________________________________________________________\n",
      "gru_6 (GRU)                  (None, 50)                22650     \n",
      "_________________________________________________________________\n",
      "dense_5 (Dense)              (None, 20)                1020      \n",
      "_________________________________________________________________\n",
      "dense_6 (Dense)              (None, 1)                 21        \n",
      "=================================================================\n",
      "Total params: 77,391\n",
      "Trainable params: 77,391\n",
      "Non-trainable params: 0\n",
      "_________________________________________________________________\n"
     ]
    }
   ],
   "source": [
    "gru.summary()"
   ]
  },
  {
   "cell_type": "code",
   "execution_count": 65,
   "metadata": {},
   "outputs": [
    {
     "name": "stdout",
     "output_type": "stream",
     "text": [
      "Epoch 1/100\n",
      "1043/1043 [==============================] - 3s 3ms/step - loss: 250.4374 - mean_absolute_error: 250.4374\n",
      "Epoch 2/100\n",
      "1043/1043 [==============================] - 1s 1ms/step - loss: 250.3250 - mean_absolute_error: 250.3250\n",
      "Epoch 3/100\n",
      "1043/1043 [==============================] - 1s 1ms/step - loss: 250.0443 - mean_absolute_error: 250.0443\n",
      "Epoch 4/100\n",
      "1043/1043 [==============================] - 1s 1ms/step - loss: 249.8205 - mean_absolute_error: 249.8205\n",
      "Epoch 5/100\n",
      "1043/1043 [==============================] - 1s 1ms/step - loss: 249.4717 - mean_absolute_error: 249.4717\n",
      "Epoch 6/100\n",
      "1043/1043 [==============================] - 2s 2ms/step - loss: 249.0326 - mean_absolute_error: 249.0326\n",
      "Epoch 7/100\n",
      "1043/1043 [==============================] - 1s 1ms/step - loss: 248.7126 - mean_absolute_error: 248.7126\n",
      "Epoch 8/100\n",
      "1043/1043 [==============================] - 1s 1ms/step - loss: 248.4805 - mean_absolute_error: 248.4805\n",
      "Epoch 9/100\n",
      "1043/1043 [==============================] - 1s 1ms/step - loss: 248.0429 - mean_absolute_error: 248.0429\n",
      "Epoch 10/100\n",
      "1043/1043 [==============================] - 1s 1ms/step - loss: 247.6892 - mean_absolute_error: 247.6892\n",
      "Epoch 11/100\n",
      "1043/1043 [==============================] - 1s 1ms/step - loss: 247.5176 - mean_absolute_error: 247.5176\n",
      "Epoch 12/100\n",
      "1043/1043 [==============================] - 1s 1ms/step - loss: 247.5552 - mean_absolute_error: 247.5552\n",
      "Epoch 13/100\n",
      "1043/1043 [==============================] - 1s 1ms/step - loss: 247.2299 - mean_absolute_error: 247.2299\n",
      "Epoch 14/100\n",
      "1043/1043 [==============================] - 1s 1ms/step - loss: 246.7073 - mean_absolute_error: 246.7073\n",
      "Epoch 15/100\n",
      "1043/1043 [==============================] - 1s 1ms/step - loss: 246.4107 - mean_absolute_error: 246.4107\n",
      "Epoch 16/100\n",
      "1043/1043 [==============================] - 1s 1ms/step - loss: 245.9078 - mean_absolute_error: 245.9078\n",
      "Epoch 17/100\n",
      "1043/1043 [==============================] - 1s 1ms/step - loss: 245.7078 - mean_absolute_error: 245.7078\n",
      "Epoch 18/100\n",
      "1043/1043 [==============================] - 1s 1ms/step - loss: 244.8767 - mean_absolute_error: 244.8767\n",
      "Epoch 19/100\n",
      "1043/1043 [==============================] - 1s 1ms/step - loss: 245.1611 - mean_absolute_error: 245.1611\n",
      "Epoch 20/100\n",
      "1043/1043 [==============================] - 1s 1ms/step - loss: 245.4024 - mean_absolute_error: 245.4024\n",
      "Epoch 21/100\n",
      "1043/1043 [==============================] - 1s 1ms/step - loss: 244.6455 - mean_absolute_error: 244.6455\n",
      "Epoch 22/100\n",
      "1043/1043 [==============================] - 1s 1ms/step - loss: 243.8140 - mean_absolute_error: 243.8140\n",
      "Epoch 23/100\n",
      "1043/1043 [==============================] - 1s 1ms/step - loss: 243.9006 - mean_absolute_error: 243.9006\n",
      "Epoch 24/100\n",
      "1043/1043 [==============================] - 1s 1ms/step - loss: 243.9341 - mean_absolute_error: 243.9341\n",
      "Epoch 25/100\n",
      "1043/1043 [==============================] - 1s 1ms/step - loss: 242.7524 - mean_absolute_error: 242.7524\n",
      "Epoch 26/100\n",
      "1043/1043 [==============================] - 1s 1ms/step - loss: 243.5786 - mean_absolute_error: 243.5786\n",
      "Epoch 27/100\n",
      "1043/1043 [==============================] - 1s 1ms/step - loss: 242.3722 - mean_absolute_error: 242.3722\n",
      "Epoch 28/100\n",
      "1043/1043 [==============================] - 1s 1ms/step - loss: 241.5481 - mean_absolute_error: 241.5481\n",
      "Epoch 29/100\n",
      "1043/1043 [==============================] - 1s 1ms/step - loss: 242.8475 - mean_absolute_error: 242.8475\n",
      "Epoch 30/100\n",
      "1043/1043 [==============================] - 1s 1ms/step - loss: 241.9235 - mean_absolute_error: 241.9235\n",
      "Epoch 31/100\n",
      "1043/1043 [==============================] - 1s 1ms/step - loss: 240.6481 - mean_absolute_error: 240.6481\n",
      "Epoch 32/100\n",
      "1043/1043 [==============================] - 1s 1ms/step - loss: 240.0097 - mean_absolute_error: 240.0097\n",
      "Epoch 33/100\n",
      "1043/1043 [==============================] - 1s 1ms/step - loss: 240.8530 - mean_absolute_error: 240.8530\n",
      "Epoch 34/100\n",
      "1043/1043 [==============================] - 1s 1ms/step - loss: 239.7429 - mean_absolute_error: 239.7429\n",
      "Epoch 35/100\n",
      "1043/1043 [==============================] - 1s 1ms/step - loss: 239.0497 - mean_absolute_error: 239.0497\n",
      "Epoch 36/100\n",
      "1043/1043 [==============================] - 1s 1ms/step - loss: 238.5686 - mean_absolute_error: 238.5686\n",
      "Epoch 37/100\n",
      "1043/1043 [==============================] - 1s 1ms/step - loss: 238.0710 - mean_absolute_error: 238.0710\n",
      "Epoch 38/100\n",
      "1043/1043 [==============================] - 1s 1ms/step - loss: 237.6114 - mean_absolute_error: 237.6114\n",
      "Epoch 39/100\n",
      "1043/1043 [==============================] - 1s 1ms/step - loss: 236.0462 - mean_absolute_error: 236.0462\n",
      "Epoch 40/100\n",
      "1043/1043 [==============================] - 1s 1ms/step - loss: 236.9926 - mean_absolute_error: 236.9926\n",
      "Epoch 41/100\n",
      "1043/1043 [==============================] - 1s 1ms/step - loss: 235.9448 - mean_absolute_error: 235.9448\n",
      "Epoch 42/100\n",
      "1043/1043 [==============================] - 1s 1ms/step - loss: 235.8458 - mean_absolute_error: 235.8458\n",
      "Epoch 43/100\n",
      "1043/1043 [==============================] - 1s 1ms/step - loss: 235.2183 - mean_absolute_error: 235.2183\n",
      "Epoch 44/100\n",
      "1043/1043 [==============================] - 1s 1ms/step - loss: 232.8101 - mean_absolute_error: 232.8101\n",
      "Epoch 45/100\n",
      "1043/1043 [==============================] - 1s 1ms/step - loss: 231.2615 - mean_absolute_error: 231.2615\n",
      "Epoch 46/100\n",
      "1043/1043 [==============================] - 1s 1ms/step - loss: 234.6493 - mean_absolute_error: 234.6493\n",
      "Epoch 47/100\n",
      "1043/1043 [==============================] - 1s 1ms/step - loss: 234.1652 - mean_absolute_error: 234.1652\n",
      "Epoch 48/100\n",
      "1043/1043 [==============================] - 1s 1ms/step - loss: 232.9428 - mean_absolute_error: 232.9428\n",
      "Epoch 49/100\n",
      "1043/1043 [==============================] - 1s 1ms/step - loss: 234.6225 - mean_absolute_error: 234.6225\n",
      "Epoch 50/100\n",
      "1043/1043 [==============================] - 1s 1ms/step - loss: 233.7843 - mean_absolute_error: 233.7843\n",
      "Epoch 51/100\n",
      "1043/1043 [==============================] - 2s 2ms/step - loss: 232.9720 - mean_absolute_error: 232.9720\n",
      "Epoch 52/100\n",
      "1043/1043 [==============================] - 1s 1ms/step - loss: 233.7617 - mean_absolute_error: 233.7617\n",
      "Epoch 53/100\n",
      "1043/1043 [==============================] - 1s 1ms/step - loss: 234.5448 - mean_absolute_error: 234.5448\n",
      "Epoch 54/100\n",
      "1043/1043 [==============================] - 1s 1ms/step - loss: 231.6646 - mean_absolute_error: 231.6646\n",
      "Epoch 55/100\n",
      "1043/1043 [==============================] - 1s 1ms/step - loss: 230.8070 - mean_absolute_error: 230.8070\n",
      "Epoch 56/100\n",
      "1043/1043 [==============================] - 1s 1ms/step - loss: 231.3390 - mean_absolute_error: 231.3390\n",
      "Epoch 57/100\n",
      "1043/1043 [==============================] - 1s 1ms/step - loss: 229.6093 - mean_absolute_error: 229.6093\n",
      "Epoch 58/100\n",
      "1043/1043 [==============================] - 1s 1ms/step - loss: 230.9202 - mean_absolute_error: 230.9202\n",
      "Epoch 59/100\n",
      "1043/1043 [==============================] - 1s 1ms/step - loss: 229.4259 - mean_absolute_error: 229.4259\n",
      "Epoch 60/100\n",
      "1043/1043 [==============================] - 1s 1ms/step - loss: 229.5785 - mean_absolute_error: 229.5785\n",
      "Epoch 61/100\n",
      "1043/1043 [==============================] - 1s 1ms/step - loss: 230.0847 - mean_absolute_error: 230.0847\n",
      "Epoch 62/100\n",
      "1043/1043 [==============================] - 1s 1ms/step - loss: 226.8907 - mean_absolute_error: 226.8907\n",
      "Epoch 63/100\n",
      "1043/1043 [==============================] - 1s 1ms/step - loss: 230.4463 - mean_absolute_error: 230.4463\n",
      "Epoch 64/100\n",
      "1043/1043 [==============================] - 1s 1ms/step - loss: 229.4209 - mean_absolute_error: 229.4209\n",
      "Epoch 65/100\n",
      "1043/1043 [==============================] - 1s 1ms/step - loss: 230.3973 - mean_absolute_error: 230.3973\n",
      "Epoch 66/100\n",
      "1043/1043 [==============================] - 1s 1ms/step - loss: 228.0895 - mean_absolute_error: 228.0895\n",
      "Epoch 67/100\n",
      "1043/1043 [==============================] - 1s 1ms/step - loss: 227.3711 - mean_absolute_error: 227.3711\n",
      "Epoch 68/100\n",
      "1043/1043 [==============================] - 1s 1ms/step - loss: 226.7848 - mean_absolute_error: 226.7848\n",
      "Epoch 69/100\n"
     ]
    },
    {
     "name": "stdout",
     "output_type": "stream",
     "text": [
      "1043/1043 [==============================] - 1s 1ms/step - loss: 224.7890 - mean_absolute_error: 224.7890\n",
      "Epoch 70/100\n",
      "1043/1043 [==============================] - 1s 1ms/step - loss: 227.1624 - mean_absolute_error: 227.1624\n",
      "Epoch 71/100\n",
      "1043/1043 [==============================] - 2s 2ms/step - loss: 226.2826 - mean_absolute_error: 226.2826\n",
      "Epoch 72/100\n",
      "1043/1043 [==============================] - 1s 1ms/step - loss: 226.3166 - mean_absolute_error: 226.3166\n",
      "Epoch 73/100\n",
      "1043/1043 [==============================] - 1s 1ms/step - loss: 223.0738 - mean_absolute_error: 223.0738\n",
      "Epoch 74/100\n",
      "1043/1043 [==============================] - 1s 1ms/step - loss: 223.1014 - mean_absolute_error: 223.1014\n",
      "Epoch 75/100\n",
      "1043/1043 [==============================] - 1s 1ms/step - loss: 225.0806 - mean_absolute_error: 225.0806\n",
      "Epoch 76/100\n",
      "1043/1043 [==============================] - 1s 1ms/step - loss: 225.0476 - mean_absolute_error: 225.0476\n",
      "Epoch 77/100\n",
      "1043/1043 [==============================] - 1s 1ms/step - loss: 225.4688 - mean_absolute_error: 225.4688\n",
      "Epoch 78/100\n",
      "1043/1043 [==============================] - 1s 1ms/step - loss: 223.1010 - mean_absolute_error: 223.1010\n",
      "Epoch 79/100\n",
      "1043/1043 [==============================] - 1s 1ms/step - loss: 225.1448 - mean_absolute_error: 225.1448\n",
      "Epoch 80/100\n",
      "1043/1043 [==============================] - 1s 1ms/step - loss: 225.0560 - mean_absolute_error: 225.0560\n",
      "Epoch 81/100\n",
      "1043/1043 [==============================] - 1s 1ms/step - loss: 222.3513 - mean_absolute_error: 222.3513\n",
      "Epoch 82/100\n",
      "1043/1043 [==============================] - 1s 1ms/step - loss: 222.5835 - mean_absolute_error: 222.5835\n",
      "Epoch 83/100\n",
      "1043/1043 [==============================] - 1s 1ms/step - loss: 222.8575 - mean_absolute_error: 222.8575\n",
      "Epoch 84/100\n",
      "1043/1043 [==============================] - 1s 1ms/step - loss: 218.8592 - mean_absolute_error: 218.8592\n",
      "Epoch 85/100\n",
      "1043/1043 [==============================] - 1s 1ms/step - loss: 219.0489 - mean_absolute_error: 219.0489\n",
      "Epoch 86/100\n",
      "1043/1043 [==============================] - 1s 1ms/step - loss: 221.1622 - mean_absolute_error: 221.1622\n",
      "Epoch 87/100\n",
      "1043/1043 [==============================] - 1s 1ms/step - loss: 222.7488 - mean_absolute_error: 222.7488\n",
      "Epoch 88/100\n",
      "1043/1043 [==============================] - 1s 1ms/step - loss: 220.6386 - mean_absolute_error: 220.6386\n",
      "Epoch 89/100\n",
      "1043/1043 [==============================] - 1s 1ms/step - loss: 217.0858 - mean_absolute_error: 217.0858\n",
      "Epoch 90/100\n",
      "1043/1043 [==============================] - 1s 1ms/step - loss: 218.3523 - mean_absolute_error: 218.3523\n",
      "Epoch 91/100\n",
      "1043/1043 [==============================] - 1s 1ms/step - loss: 219.1278 - mean_absolute_error: 219.1278\n",
      "Epoch 92/100\n",
      "1043/1043 [==============================] - 1s 1ms/step - loss: 220.2268 - mean_absolute_error: 220.2268\n",
      "Epoch 93/100\n",
      "1043/1043 [==============================] - 1s 1ms/step - loss: 219.6054 - mean_absolute_error: 219.6054\n",
      "Epoch 94/100\n",
      "1043/1043 [==============================] - 1s 1ms/step - loss: 216.3585 - mean_absolute_error: 216.3585\n",
      "Epoch 95/100\n",
      "1043/1043 [==============================] - 1s 1ms/step - loss: 217.6356 - mean_absolute_error: 217.6356\n",
      "Epoch 96/100\n",
      "1043/1043 [==============================] - 1s 1ms/step - loss: 216.0399 - mean_absolute_error: 216.0399\n",
      "Epoch 97/100\n",
      "1043/1043 [==============================] - 1s 1ms/step - loss: 218.3229 - mean_absolute_error: 218.3229\n",
      "Epoch 98/100\n",
      "1043/1043 [==============================] - 1s 1ms/step - loss: 217.7908 - mean_absolute_error: 217.7908\n",
      "Epoch 99/100\n",
      "1043/1043 [==============================] - 1s 1ms/step - loss: 217.6985 - mean_absolute_error: 217.6985\n",
      "Epoch 100/100\n",
      "1043/1043 [==============================] - 1s 1ms/step - loss: 218.7515 - mean_absolute_error: 218.7515\n"
     ]
    },
    {
     "data": {
      "text/plain": [
       "<keras.callbacks.History at 0x7fcd185dc950>"
      ]
     },
     "execution_count": 65,
     "metadata": {},
     "output_type": "execute_result"
    }
   ],
   "source": [
    "gru.fit(X_train, y_train, epochs=100)"
   ]
  },
  {
   "cell_type": "code",
   "execution_count": 66,
   "metadata": {},
   "outputs": [
    {
     "name": "stdout",
     "output_type": "stream",
     "text": [
      "Train error: 203.99793106488963\n",
      "Test error:  262.0646436890321\n"
     ]
    }
   ],
   "source": [
    "preds_train = gru.predict(X_train)\n",
    "preds_test = gru.predict(X_test)\n",
    "print('Train error:', mean_absolute_error(y_train, preds_train))\n",
    "print('Test error: ', mean_absolute_error(y_test, preds_test))"
   ]
  },
  {
   "cell_type": "code",
   "execution_count": 67,
   "metadata": {},
   "outputs": [],
   "source": [
    "df_preds_train = pd.DataFrame()\n",
    "df_preds_test = pd.DataFrame()\n",
    "df_preds_train['y_train'] = y_train \n",
    "df_preds_train['preds_train'] = preds_train \n",
    "df_preds_test['y_test'] = y_test \n",
    "df_preds_test['preds_test'] = preds_test \n"
   ]
  },
  {
   "cell_type": "code",
   "execution_count": 68,
   "metadata": {},
   "outputs": [
    {
     "data": {
      "text/plain": [
       "<matplotlib.axes._subplots.AxesSubplot at 0x7fcd02ae89d0>"
      ]
     },
     "execution_count": 68,
     "metadata": {},
     "output_type": "execute_result"
    },
    {
     "data": {
      "image/png": "[encoded data removed]",
      "text/plain": [
       "<Figure size 1080x576 with 1 Axes>"
      ]
     },
     "metadata": {
      "needs_background": "light"
     },
     "output_type": "display_data"
    }
   ],
   "source": [
    "df_preds_test.plot(figsize=(15, 8))"
   ]
  },
  {
   "cell_type": "code",
   "execution_count": 36,
   "metadata": {
    "scrolled": false
   },
   "outputs": [
    {
     "data": {
      "text/plain": [
       "<matplotlib.axes._subplots.AxesSubplot at 0x7fcd7eacae10>"
      ]
     },
     "execution_count": 36,
     "metadata": {},
     "output_type": "execute_result"
    },
    {
     "data": {
      "image/png": "[encoded data removed]",
      "text/plain": [
       "<Figure size 1080x576 with 1 Axes>"
      ]
     },
     "metadata": {
      "needs_background": "light"
     },
     "output_type": "display_data"
    }
   ],
   "source": [
    "df_preds_train.plot(figsize=(15, 8))"
   ]
  },
  {
   "cell_type": "markdown",
   "metadata": {},
   "source": [
    "----"
   ]
  },
  {
   "cell_type": "markdown",
   "metadata": {},
   "source": [
    "# Predict binary target"
   ]
  },
  {
   "cell_type": "code",
   "execution_count": 255,
   "metadata": {},
   "outputs": [],
   "source": [
    "df_fin = pd.read_csv('../data_processed/df_features_fornitori.csv')\n",
    "df_fin['Data_Aggiudicazione/Abilitazione'] = pd.to_datetime(df_fin['Data_Aggiudicazione/Abilitazione'],\n",
    "                                                              format=\"%Y-%m-%d\")\n",
    "df_fin.set_index('Data_Aggiudicazione/Abilitazione', inplace=True)"
   ]
  },
  {
   "cell_type": "code",
   "execution_count": 256,
   "metadata": {},
   "outputs": [],
   "source": [
    "df_fin['target'] = (df_fin['target'].shift(-1) > df_fin['target']).astype(int)"
   ]
  },
  {
   "cell_type": "code",
   "execution_count": 257,
   "metadata": {},
   "outputs": [],
   "source": [
    "df_fin = df_fin[:-1]"
   ]
  },
  {
   "cell_type": "code",
   "execution_count": 258,
   "metadata": {},
   "outputs": [],
   "source": [
    "features = [col for col in df_fin.columns if col != 'target']\n",
    "def rolling_window(a, window):\n",
    "    shape = (a.shape[0] - window + 1, window) + a.shape[1:]\n",
    "    strides = (a.strides[0],) + a.strides\n",
    "    return np.lib.stride_tricks.as_strided(a, shape=shape, strides=strides)"
   ]
  },
  {
   "cell_type": "markdown",
   "metadata": {},
   "source": [
    "## Baselines"
   ]
  },
  {
   "cell_type": "markdown",
   "metadata": {},
   "source": [
    "### Split train test"
   ]
  },
  {
   "cell_type": "code",
   "execution_count": 259,
   "metadata": {},
   "outputs": [],
   "source": [
    "X = df_fin[features].values\n",
    "y = df_fin['target'].values\n",
    "index = df_fin.index\n",
    "X_train, y_train, index_train = X[:int(0.7 * len(X))], y[:int(0.7 * len(X))], index[:int(0.7 * len(X))]\n",
    "X_test, y_test, index_test = X[int(0.7 * len(X)):], y[int(0.7 * len(X)):], index[int(0.7 * len(X)):]"
   ]
  },
  {
   "cell_type": "markdown",
   "metadata": {},
   "source": [
    "### Scale feats"
   ]
  },
  {
   "cell_type": "code",
   "execution_count": 260,
   "metadata": {},
   "outputs": [],
   "source": [
    "scaler = MinMaxScaler()\n",
    "scaler.fit(X_train)\n",
    "X_train = scaler.transform(X_train)\n",
    "X_test = scaler.transform(X_test)"
   ]
  },
  {
   "cell_type": "markdown",
   "metadata": {},
   "source": [
    "### Allzeros, random"
   ]
  },
  {
   "cell_type": "code",
   "execution_count": 261,
   "metadata": {},
   "outputs": [],
   "source": [
    "class BaselinePredictor():\n",
    "    \n",
    "    def __init__(self, predictor='allzeros'): #  'random'\n",
    "        self.predictor = predictor\n",
    "    \n",
    "    def fit(self, X_train, y_train):\n",
    "        pass\n",
    "    \n",
    "    def predict(self, X):\n",
    "        if self.predictor == 'allzeros':\n",
    "            return np.full(len(X), 0)\n",
    "        elif self.predictor == 'random':\n",
    "            return np.random.randint(2, size=len(X))"
   ]
  },
  {
   "cell_type": "code",
   "execution_count": 262,
   "metadata": {},
   "outputs": [],
   "source": [
    "allzp = BaselinePredictor(predictor='allzeros')\n",
    "allzp.fit(X_train, y_train)\n",
    "randp = BaselinePredictor(predictor='random')\n",
    "randp.fit(X_train, y_train)\n"
   ]
  },
  {
   "cell_type": "code",
   "execution_count": 263,
   "metadata": {},
   "outputs": [
    {
     "name": "stdout",
     "output_type": "stream",
     "text": [
      "Train accuracy allzeros: 0.6719924812030075\n",
      "Test accuracy allzeros:  0.6228070175438597\n",
      "CM train allzeros\n",
      "[[715   0]\n",
      " [349   0]]\n",
      "CM test allzeros\n",
      "[[284   0]\n",
      " [172   0]]\n",
      "Train accuracy random: 0.47650375939849626\n",
      "Test accuracy random:  0.5197368421052632\n",
      "CM train random\n",
      "[[353 362]\n",
      " [195 154]]\n",
      "CM test random\n",
      "[[141 143]\n",
      " [ 76  96]]\n"
     ]
    }
   ],
   "source": [
    "preds_train = allzp.predict(X_train)\n",
    "preds_test = allzp.predict(X_test)\n",
    "print('Train accuracy allzeros:', accuracy_score(y_train, preds_train))\n",
    "print('Test accuracy allzeros: ', accuracy_score(y_test, preds_test))\n",
    "print('CM train allzeros')\n",
    "print(confusion_matrix(y_train, preds_train))\n",
    "print('CM test allzeros') \n",
    "print(confusion_matrix(y_test, preds_test))\n",
    "\n",
    "preds_train = randp.predict(X_train)\n",
    "preds_test = randp.predict(X_test)\n",
    "print('Train accuracy random:', accuracy_score(y_train, preds_train))\n",
    "print('Test accuracy random: ', accuracy_score(y_test, preds_test))\n",
    "print('CM train random')\n",
    "print(confusion_matrix(y_train, preds_train))\n",
    "print('CM test random') \n",
    "print(confusion_matrix(y_test, preds_test))"
   ]
  },
  {
   "cell_type": "markdown",
   "metadata": {},
   "source": [
    "### Logistic regression"
   ]
  },
  {
   "cell_type": "code",
   "execution_count": 264,
   "metadata": {},
   "outputs": [],
   "source": [
    "from sklearn.linear_model import LogisticRegression"
   ]
  },
  {
   "cell_type": "code",
   "execution_count": 265,
   "metadata": {},
   "outputs": [
    {
     "name": "stderr",
     "output_type": "stream",
     "text": [
      "/home/fdz/anaconda3/lib/python3.7/site-packages/sklearn/linear_model/logistic.py:432: FutureWarning: Default solver will be changed to 'lbfgs' in 0.22. Specify a solver to silence this warning.\n",
      "  FutureWarning)\n"
     ]
    },
    {
     "data": {
      "text/plain": [
       "LogisticRegression(C=1.0, class_weight=None, dual=False, fit_intercept=True,\n",
       "                   intercept_scaling=1, l1_ratio=None, max_iter=100,\n",
       "                   multi_class='warn', n_jobs=None, penalty='l2',\n",
       "                   random_state=None, solver='warn', tol=0.0001, verbose=0,\n",
       "                   warm_start=False)"
      ]
     },
     "execution_count": 265,
     "metadata": {},
     "output_type": "execute_result"
    }
   ],
   "source": [
    "lr = LogisticRegression()\n",
    "lr.fit(X_train, y_train)"
   ]
  },
  {
   "cell_type": "code",
   "execution_count": 266,
   "metadata": {},
   "outputs": [
    {
     "name": "stdout",
     "output_type": "stream",
     "text": [
      "Train error: 0.6729323308270677\n",
      "Test error:  0.625\n",
      "CM train\n",
      "[[715   0]\n",
      " [348   1]]\n",
      "CM test\n",
      "[[284   0]\n",
      " [171   1]]\n"
     ]
    }
   ],
   "source": [
    "preds_train = lr.predict(X_train)\n",
    "preds_test = lr.predict(X_test)\n",
    "print('Train error:', accuracy_score(y_train, preds_train))\n",
    "print('Test error: ', accuracy_score(y_test, preds_test))\n",
    "print('CM train')\n",
    "print(confusion_matrix(y_train, preds_train))\n",
    "print('CM test') \n",
    "print(confusion_matrix(y_test, preds_test))"
   ]
  },
  {
   "cell_type": "markdown",
   "metadata": {},
   "source": [
    "### xgboost"
   ]
  },
  {
   "cell_type": "code",
   "execution_count": 267,
   "metadata": {},
   "outputs": [],
   "source": [
    "from xgboost import XGBClassifier"
   ]
  },
  {
   "cell_type": "code",
   "execution_count": 268,
   "metadata": {},
   "outputs": [
    {
     "data": {
      "text/plain": [
       "XGBClassifier(base_score=0.5, booster='gbtree', colsample_bylevel=1,\n",
       "              colsample_bynode=1, colsample_bytree=1, gamma=0,\n",
       "              learning_rate=0.1, max_delta_step=0, max_depth=3,\n",
       "              min_child_weight=1, missing=None, n_estimators=100, n_jobs=1,\n",
       "              nthread=None, objective='binary:logistic', random_state=0,\n",
       "              reg_alpha=0, reg_lambda=1, scale_pos_weight=1, seed=None,\n",
       "              silent=None, subsample=1, verbosity=1)"
      ]
     },
     "execution_count": 268,
     "metadata": {},
     "output_type": "execute_result"
    }
   ],
   "source": [
    "xgb = XGBClassifier()\n",
    "xgb.fit(X_train, y_train)"
   ]
  },
  {
   "cell_type": "code",
   "execution_count": 269,
   "metadata": {},
   "outputs": [
    {
     "name": "stdout",
     "output_type": "stream",
     "text": [
      "Train error: 0.7640977443609023\n",
      "Test error:  0.6271929824561403\n",
      "CM train\n",
      "[[707   8]\n",
      " [243 106]]\n",
      "CM test\n",
      "[[252  32]\n",
      " [138  34]]\n"
     ]
    }
   ],
   "source": [
    "preds_train = xgb.predict(X_train)\n",
    "preds_test = xgb.predict(X_test)\n",
    "print('Train error:', accuracy_score(y_train, preds_train))\n",
    "print('Test error: ', accuracy_score(y_test, preds_test))\n",
    "print('CM train')\n",
    "print(confusion_matrix(y_train, preds_train))\n",
    "print('CM test') \n",
    "print(confusion_matrix(y_test, preds_test))"
   ]
  },
  {
   "cell_type": "markdown",
   "metadata": {},
   "source": [
    "## Sequences"
   ]
  },
  {
   "cell_type": "markdown",
   "metadata": {},
   "source": [
    "### Split train test"
   ]
  },
  {
   "cell_type": "code",
   "execution_count": 270,
   "metadata": {},
   "outputs": [],
   "source": [
    "window_size = 30\n",
    "scale = 'True'\n",
    "if scale:\n",
    "    X_rolled = rolling_window(scaler.transform(X), window_size)\n",
    "else:\n",
    "    X_rolled = rolling_window(X, window_size)\n",
    "y_rolled = rolling_window(y, window_size)[:, -1]\n",
    "index_rolled = rolling_window(index.values, window_size)[:, -1]"
   ]
  },
  {
   "cell_type": "code",
   "execution_count": 271,
   "metadata": {},
   "outputs": [],
   "source": [
    "X_train, y_train = X_rolled[:int(0.7 * len(X_rolled))], y_rolled[:int(0.7 * len(y_rolled))]\n",
    "X_test, y_test = X_rolled[int(0.7 * len(X_rolled)):], y_rolled[int(0.7 * len(y_rolled)):]"
   ]
  },
  {
   "cell_type": "code",
   "execution_count": 272,
   "metadata": {},
   "outputs": [],
   "source": [
    "X_train, y_train = X_rolled[:int(0.7 * len(X_rolled))], y_rolled[:int(0.7 * len(y_rolled))]\n",
    "index_train = index_rolled[:int(0.7 * len(y_rolled))]\n",
    "X_test, y_test = X_rolled[int(0.7 * len(X_rolled)):], y_rolled[int(0.7 * len(y_rolled)):]\n",
    "index_test = index_rolled[int(0.7 * len(y_rolled)):]"
   ]
  },
  {
   "cell_type": "markdown",
   "metadata": {},
   "source": [
    "### Model gru"
   ]
  },
  {
   "cell_type": "code",
   "execution_count": 273,
   "metadata": {},
   "outputs": [
    {
     "name": "stdout",
     "output_type": "stream",
     "text": [
      "_________________________________________________________________\n",
      "Layer (type)                 Output Shape              Param #   \n",
      "=================================================================\n",
      "input_part (InputLayer)      (None, 30, 78)            0         \n",
      "_________________________________________________________________\n",
      "gru_9 (GRU)                  (None, 30, 100)           53700     \n",
      "_________________________________________________________________\n",
      "gru_10 (GRU)                 (None, 50)                22650     \n",
      "_________________________________________________________________\n",
      "dense_9 (Dense)              (None, 20)                1020      \n",
      "_________________________________________________________________\n",
      "dense_10 (Dense)             (None, 1)                 21        \n",
      "=================================================================\n",
      "Total params: 77,391\n",
      "Trainable params: 77,391\n",
      "Non-trainable params: 0\n",
      "_________________________________________________________________\n"
     ]
    }
   ],
   "source": [
    "gru = build_model_gru(X_train.shape[2], window_size, \n",
    "                      nb_hidden_1=100, nb_hidden_2=50, emb_dim=20, \n",
    "                      dropout_1=0.2, dropout_2=0.5, rec_dropout_1=0.2, rec_dropout_2=0.5, \n",
    "                      model_type='classification')\n",
    "gru.summary()"
   ]
  },
  {
   "cell_type": "code",
   "execution_count": 326,
   "metadata": {},
   "outputs": [
    {
     "name": "stdout",
     "output_type": "stream",
     "text": [
      "Epoch 1/100\n",
      "1043/1043 [==============================] - 2s 2ms/step - loss: 0.6487 - acc: 0.6520\n",
      "Epoch 2/100\n",
      "1043/1043 [==============================] - 1s 853us/step - loss: 0.6361 - acc: 0.6654\n",
      "Epoch 3/100\n",
      "1043/1043 [==============================] - 1s 850us/step - loss: 0.6198 - acc: 0.6644\n",
      "Epoch 4/100\n",
      "1043/1043 [==============================] - 1s 861us/step - loss: 0.6089 - acc: 0.6692\n",
      "Epoch 5/100\n",
      "1043/1043 [==============================] - 1s 888us/step - loss: 0.6038 - acc: 0.6654\n",
      "Epoch 6/100\n",
      "1043/1043 [==============================] - 1s 877us/step - loss: 0.5927 - acc: 0.6663\n",
      "Epoch 7/100\n",
      "1043/1043 [==============================] - 1s 903us/step - loss: 0.5859 - acc: 0.6721\n",
      "Epoch 8/100\n",
      "1043/1043 [==============================] - 1s 888us/step - loss: 0.5813 - acc: 0.6836\n",
      "Epoch 9/100\n",
      "1043/1043 [==============================] - 1s 922us/step - loss: 0.5685 - acc: 0.6779\n",
      "Epoch 10/100\n",
      "1043/1043 [==============================] - 1s 921us/step - loss: 0.5726 - acc: 0.6731\n",
      "Epoch 11/100\n",
      "1043/1043 [==============================] - 1s 914us/step - loss: 0.5706 - acc: 0.6769\n",
      "Epoch 12/100\n",
      "1043/1043 [==============================] - 1s 908us/step - loss: 0.5789 - acc: 0.6798\n",
      "Epoch 13/100\n",
      "1043/1043 [==============================] - 1s 950us/step - loss: 0.5605 - acc: 0.6913\n",
      "Epoch 14/100\n",
      "1043/1043 [==============================] - 1s 988us/step - loss: 0.5627 - acc: 0.6932\n",
      "Epoch 15/100\n",
      "1043/1043 [==============================] - 1s 944us/step - loss: 0.5661 - acc: 0.6894\n",
      "Epoch 16/100\n",
      "1043/1043 [==============================] - 1s 981us/step - loss: 0.5539 - acc: 0.7028\n",
      "Epoch 17/100\n",
      "1043/1043 [==============================] - 1s 992us/step - loss: 0.5549 - acc: 0.6874\n",
      "Epoch 18/100\n",
      "1043/1043 [==============================] - 1s 977us/step - loss: 0.5559 - acc: 0.6913\n",
      "Epoch 19/100\n",
      "1043/1043 [==============================] - 1s 981us/step - loss: 0.5471 - acc: 0.6903\n",
      "Epoch 20/100\n",
      "1043/1043 [==============================] - 1s 1ms/step - loss: 0.5504 - acc: 0.6932\n",
      "Epoch 21/100\n",
      "1043/1043 [==============================] - 1s 992us/step - loss: 0.5468 - acc: 0.7028\n",
      "Epoch 22/100\n",
      "1043/1043 [==============================] - 1s 997us/step - loss: 0.5466 - acc: 0.7037\n",
      "Epoch 23/100\n",
      "1043/1043 [==============================] - 1s 996us/step - loss: 0.5432 - acc: 0.7047\n",
      "Epoch 24/100\n",
      "1043/1043 [==============================] - 1s 1ms/step - loss: 0.5503 - acc: 0.6942\n",
      "Epoch 25/100\n",
      "1043/1043 [==============================] - 1s 1ms/step - loss: 0.5410 - acc: 0.7105\n",
      "Epoch 26/100\n",
      "1043/1043 [==============================] - 1s 998us/step - loss: 0.5458 - acc: 0.7018\n",
      "Epoch 27/100\n",
      "1043/1043 [==============================] - 1s 1ms/step - loss: 0.5354 - acc: 0.6932\n",
      "Epoch 28/100\n",
      "1043/1043 [==============================] - 1s 1ms/step - loss: 0.5288 - acc: 0.7047\n",
      "Epoch 29/100\n",
      "1043/1043 [==============================] - 1s 1ms/step - loss: 0.5387 - acc: 0.7057\n",
      "Epoch 30/100\n",
      "1043/1043 [==============================] - 1s 1ms/step - loss: 0.5352 - acc: 0.7037\n",
      "Epoch 31/100\n",
      "1043/1043 [==============================] - 1s 1ms/step - loss: 0.5367 - acc: 0.7095\n",
      "Epoch 32/100\n",
      "1043/1043 [==============================] - 1s 1ms/step - loss: 0.5353 - acc: 0.7076\n",
      "Epoch 33/100\n",
      "1043/1043 [==============================] - 1s 1ms/step - loss: 0.5342 - acc: 0.7172\n",
      "Epoch 34/100\n",
      "1043/1043 [==============================] - 1s 1ms/step - loss: 0.5216 - acc: 0.7057\n",
      "Epoch 35/100\n",
      "1043/1043 [==============================] - 1s 1ms/step - loss: 0.5254 - acc: 0.7162\n",
      "Epoch 36/100\n",
      "1043/1043 [==============================] - 1s 1ms/step - loss: 0.5092 - acc: 0.7133\n",
      "Epoch 37/100\n",
      "1043/1043 [==============================] - 1s 1ms/step - loss: 0.5188 - acc: 0.7085\n",
      "Epoch 38/100\n",
      "1043/1043 [==============================] - 1s 1ms/step - loss: 0.5173 - acc: 0.7325\n",
      "Epoch 39/100\n",
      "1043/1043 [==============================] - 1s 1ms/step - loss: 0.5105 - acc: 0.7267\n",
      "Epoch 40/100\n",
      "1043/1043 [==============================] - 1s 1ms/step - loss: 0.5215 - acc: 0.7172\n",
      "Epoch 41/100\n",
      "1043/1043 [==============================] - 1s 1ms/step - loss: 0.5161 - acc: 0.7200\n",
      "Epoch 42/100\n",
      "1043/1043 [==============================] - 1s 1ms/step - loss: 0.5102 - acc: 0.7105\n",
      "Epoch 43/100\n",
      "1043/1043 [==============================] - 1s 1ms/step - loss: 0.5182 - acc: 0.7200\n",
      "Epoch 44/100\n",
      "1043/1043 [==============================] - 1s 1ms/step - loss: 0.5095 - acc: 0.7277\n",
      "Epoch 45/100\n",
      "1043/1043 [==============================] - 1s 1ms/step - loss: 0.4966 - acc: 0.7306\n",
      "Epoch 46/100\n",
      "1043/1043 [==============================] - 1s 1ms/step - loss: 0.5009 - acc: 0.7210\n",
      "Epoch 47/100\n",
      "1043/1043 [==============================] - 1s 1ms/step - loss: 0.5026 - acc: 0.7392\n",
      "Epoch 48/100\n",
      "1043/1043 [==============================] - 1s 1ms/step - loss: 0.5001 - acc: 0.7344\n",
      "Epoch 49/100\n",
      "1043/1043 [==============================] - 1s 1ms/step - loss: 0.4908 - acc: 0.7450\n",
      "Epoch 50/100\n",
      "1043/1043 [==============================] - 1s 1ms/step - loss: 0.5019 - acc: 0.7440\n",
      "Epoch 51/100\n",
      "1043/1043 [==============================] - 1s 1ms/step - loss: 0.4841 - acc: 0.7430\n",
      "Epoch 52/100\n",
      "1043/1043 [==============================] - 1s 1ms/step - loss: 0.4971 - acc: 0.7478\n",
      "Epoch 53/100\n",
      "1043/1043 [==============================] - 1s 1ms/step - loss: 0.4899 - acc: 0.7430\n",
      "Epoch 54/100\n",
      "1043/1043 [==============================] - 1s 1ms/step - loss: 0.4786 - acc: 0.7526\n",
      "Epoch 55/100\n",
      "1043/1043 [==============================] - 1s 1ms/step - loss: 0.4787 - acc: 0.7661\n",
      "Epoch 56/100\n",
      "1043/1043 [==============================] - 1s 1ms/step - loss: 0.4811 - acc: 0.7584\n",
      "Epoch 57/100\n",
      "1043/1043 [==============================] - 1s 1ms/step - loss: 0.4740 - acc: 0.7517\n",
      "Epoch 58/100\n",
      "1043/1043 [==============================] - 1s 1ms/step - loss: 0.4702 - acc: 0.7661\n",
      "Epoch 59/100\n",
      "1043/1043 [==============================] - 1s 1ms/step - loss: 0.4680 - acc: 0.7680\n",
      "Epoch 60/100\n",
      "1043/1043 [==============================] - 1s 1ms/step - loss: 0.4769 - acc: 0.7661\n",
      "Epoch 61/100\n",
      "1043/1043 [==============================] - 1s 1ms/step - loss: 0.4798 - acc: 0.7565\n",
      "Epoch 62/100\n",
      "1043/1043 [==============================] - 1s 1ms/step - loss: 0.4472 - acc: 0.7833\n",
      "Epoch 63/100\n",
      "1043/1043 [==============================] - 1s 1ms/step - loss: 0.4583 - acc: 0.7776\n",
      "Epoch 64/100\n",
      "1043/1043 [==============================] - 1s 1ms/step - loss: 0.4511 - acc: 0.7785\n",
      "Epoch 65/100\n",
      "1043/1043 [==============================] - 2s 2ms/step - loss: 0.4515 - acc: 0.7766\n",
      "Epoch 66/100\n",
      "1043/1043 [==============================] - 1s 1ms/step - loss: 0.4497 - acc: 0.7948\n",
      "Epoch 67/100\n",
      "1043/1043 [==============================] - 1s 1ms/step - loss: 0.4555 - acc: 0.7680\n",
      "Epoch 68/100\n",
      "1043/1043 [==============================] - 1s 1ms/step - loss: 0.4421 - acc: 0.7795\n",
      "Epoch 69/100\n",
      "1043/1043 [==============================] - 1s 1ms/step - loss: 0.4536 - acc: 0.7852\n",
      "Epoch 70/100\n",
      "1043/1043 [==============================] - 1s 1ms/step - loss: 0.4438 - acc: 0.7737\n",
      "Epoch 71/100\n",
      "1043/1043 [==============================] - 1s 1ms/step - loss: 0.4286 - acc: 0.7948\n",
      "Epoch 72/100\n",
      "1043/1043 [==============================] - 1s 1ms/step - loss: 0.4567 - acc: 0.7862\n",
      "Epoch 73/100\n",
      "1043/1043 [==============================] - 1s 1ms/step - loss: 0.4484 - acc: 0.7776\n",
      "Epoch 74/100\n",
      "1043/1043 [==============================] - 1s 1ms/step - loss: 0.4549 - acc: 0.7680\n",
      "Epoch 75/100\n",
      "1043/1043 [==============================] - 1s 1ms/step - loss: 0.4348 - acc: 0.7737\n",
      "Epoch 76/100\n",
      "1043/1043 [==============================] - 1s 1ms/step - loss: 0.4313 - acc: 0.8044\n",
      "Epoch 77/100\n",
      "1043/1043 [==============================] - 2s 1ms/step - loss: 0.4476 - acc: 0.7862\n",
      "Epoch 78/100\n",
      "1043/1043 [==============================] - 1s 1ms/step - loss: 0.4325 - acc: 0.7967\n",
      "Epoch 79/100\n",
      "1043/1043 [==============================] - 1s 1ms/step - loss: 0.4129 - acc: 0.8082\n",
      "Epoch 80/100\n",
      "1043/1043 [==============================] - 1s 1ms/step - loss: 0.4242 - acc: 0.7910\n",
      "Epoch 81/100\n",
      "1043/1043 [==============================] - 1s 1ms/step - loss: 0.4227 - acc: 0.8102\n",
      "Epoch 82/100\n",
      "1043/1043 [==============================] - 1s 1ms/step - loss: 0.4118 - acc: 0.7996\n",
      "Epoch 83/100\n"
     ]
    },
    {
     "name": "stdout",
     "output_type": "stream",
     "text": [
      "1043/1043 [==============================] - 1s 1ms/step - loss: 0.4196 - acc: 0.7987\n",
      "Epoch 84/100\n",
      "1043/1043 [==============================] - 1s 1ms/step - loss: 0.4367 - acc: 0.7881\n",
      "Epoch 85/100\n",
      "1043/1043 [==============================] - 1s 1ms/step - loss: 0.4242 - acc: 0.8102\n",
      "Epoch 86/100\n",
      "1043/1043 [==============================] - 1s 1ms/step - loss: 0.4270 - acc: 0.7977\n",
      "Epoch 87/100\n",
      "1043/1043 [==============================] - 1s 1ms/step - loss: 0.4327 - acc: 0.7833\n",
      "Epoch 88/100\n",
      "1043/1043 [==============================] - 1s 1ms/step - loss: 0.4196 - acc: 0.8092\n",
      "Epoch 89/100\n",
      "1043/1043 [==============================] - 1s 1ms/step - loss: 0.4216 - acc: 0.8063\n",
      "Epoch 90/100\n",
      "1043/1043 [==============================] - 1s 1ms/step - loss: 0.4040 - acc: 0.8121\n",
      "Epoch 91/100\n",
      "1043/1043 [==============================] - 1s 1ms/step - loss: 0.4292 - acc: 0.7852\n",
      "Epoch 92/100\n",
      "1043/1043 [==============================] - 1s 1ms/step - loss: 0.4025 - acc: 0.8102\n",
      "Epoch 93/100\n",
      "1043/1043 [==============================] - 1s 1ms/step - loss: 0.4022 - acc: 0.8130\n",
      "Epoch 94/100\n",
      "1043/1043 [==============================] - 1s 1ms/step - loss: 0.4229 - acc: 0.8044\n",
      "Epoch 95/100\n",
      "1043/1043 [==============================] - 1s 1ms/step - loss: 0.3960 - acc: 0.8044\n",
      "Epoch 96/100\n",
      "1043/1043 [==============================] - 1s 1ms/step - loss: 0.4035 - acc: 0.8015\n",
      "Epoch 97/100\n",
      "1043/1043 [==============================] - 1s 1ms/step - loss: 0.3885 - acc: 0.8150\n",
      "Epoch 98/100\n",
      "1043/1043 [==============================] - 1s 1ms/step - loss: 0.3964 - acc: 0.8188\n",
      "Epoch 99/100\n",
      "1043/1043 [==============================] - 1s 1ms/step - loss: 0.4063 - acc: 0.8073\n",
      "Epoch 100/100\n",
      "1043/1043 [==============================] - 1s 1ms/step - loss: 0.3964 - acc: 0.8130\n"
     ]
    },
    {
     "data": {
      "text/plain": [
       "<keras.callbacks.History at 0x7f15c2dc8750>"
      ]
     },
     "execution_count": 326,
     "metadata": {},
     "output_type": "execute_result"
    }
   ],
   "source": [
    "gru.fit(X_train, y_train, epochs=100)"
   ]
  },
  {
   "cell_type": "code",
   "execution_count": 327,
   "metadata": {},
   "outputs": [
    {
     "name": "stdout",
     "output_type": "stream",
     "text": [
      "Train error: 0.8446788111217641\n",
      "Test error:  0.6607142857142857\n",
      "CM train\n",
      "[[627  67]\n",
      " [ 95 254]]\n",
      "CM test\n",
      "[[187  93]\n",
      " [ 59 109]]\n"
     ]
    }
   ],
   "source": [
    "preds_train = gru.predict(X_train)\n",
    "preds_train = (preds_train > 0.5).astype(int).flatten()\n",
    "preds_test = gru.predict(X_test)\n",
    "preds_test = (preds_test > 0.5).astype(int).flatten()\n",
    "print('Train error:', accuracy_score(y_train, preds_train))\n",
    "print('Test error: ', accuracy_score(y_test, preds_test))\n",
    "print('CM train')\n",
    "print(confusion_matrix(y_train, preds_train))\n",
    "print('CM test') \n",
    "print(confusion_matrix(y_test, preds_test))"
   ]
  },
  {
   "cell_type": "markdown",
   "metadata": {},
   "source": [
    "# Results visualization"
   ]
  },
  {
   "cell_type": "code",
   "execution_count": 331,
   "metadata": {},
   "outputs": [],
   "source": [
    "df_preds_test = pd.DataFrame()"
   ]
  },
  {
   "cell_type": "code",
   "execution_count": 332,
   "metadata": {},
   "outputs": [],
   "source": [
    "df_preds_test['ep_tot'] = df_fin[df_fin.index.isin(index_test)]['ep_tot']"
   ]
  },
  {
   "cell_type": "code",
   "execution_count": 333,
   "metadata": {},
   "outputs": [
    {
     "data": {
      "text/html": [
       "<div>\n",
       "<style scoped>\n",
       "    .dataframe tbody tr th:only-of-type {\n",
       "        vertical-align: middle;\n",
       "    }\n",
       "\n",
       "    .dataframe tbody tr th {\n",
       "        vertical-align: top;\n",
       "    }\n",
       "\n",
       "    .dataframe thead th {\n",
       "        text-align: right;\n",
       "    }\n",
       "</style>\n",
       "<table border=\"1\" class=\"dataframe\">\n",
       "  <thead>\n",
       "    <tr style=\"text-align: right;\">\n",
       "      <th></th>\n",
       "      <th>ep_tot</th>\n",
       "      <th>y_test</th>\n",
       "      <th>preds_test</th>\n",
       "      <th>is_correct</th>\n",
       "    </tr>\n",
       "    <tr>\n",
       "      <th>Data_Aggiudicazione/Abilitazione</th>\n",
       "      <th></th>\n",
       "      <th></th>\n",
       "      <th></th>\n",
       "      <th></th>\n",
       "    </tr>\n",
       "  </thead>\n",
       "  <tbody>\n",
       "    <tr>\n",
       "      <td>2019-01-08</td>\n",
       "      <td>12.0</td>\n",
       "      <td>0</td>\n",
       "      <td>0</td>\n",
       "      <td>1</td>\n",
       "    </tr>\n",
       "    <tr>\n",
       "      <td>2019-01-09</td>\n",
       "      <td>2.0</td>\n",
       "      <td>1</td>\n",
       "      <td>0</td>\n",
       "      <td>0</td>\n",
       "    </tr>\n",
       "    <tr>\n",
       "      <td>2019-01-10</td>\n",
       "      <td>2496.0</td>\n",
       "      <td>0</td>\n",
       "      <td>0</td>\n",
       "      <td>1</td>\n",
       "    </tr>\n",
       "    <tr>\n",
       "      <td>2019-01-11</td>\n",
       "      <td>0.0</td>\n",
       "      <td>0</td>\n",
       "      <td>0</td>\n",
       "      <td>1</td>\n",
       "    </tr>\n",
       "    <tr>\n",
       "      <td>2019-01-12</td>\n",
       "      <td>0.0</td>\n",
       "      <td>0</td>\n",
       "      <td>0</td>\n",
       "      <td>1</td>\n",
       "    </tr>\n",
       "    <tr>\n",
       "      <td>...</td>\n",
       "      <td>...</td>\n",
       "      <td>...</td>\n",
       "      <td>...</td>\n",
       "      <td>...</td>\n",
       "    </tr>\n",
       "    <tr>\n",
       "      <td>2020-03-26</td>\n",
       "      <td>1.0</td>\n",
       "      <td>1</td>\n",
       "      <td>0</td>\n",
       "      <td>0</td>\n",
       "    </tr>\n",
       "    <tr>\n",
       "      <td>2020-03-27</td>\n",
       "      <td>690.0</td>\n",
       "      <td>0</td>\n",
       "      <td>0</td>\n",
       "      <td>1</td>\n",
       "    </tr>\n",
       "    <tr>\n",
       "      <td>2020-03-28</td>\n",
       "      <td>0.0</td>\n",
       "      <td>0</td>\n",
       "      <td>0</td>\n",
       "      <td>1</td>\n",
       "    </tr>\n",
       "    <tr>\n",
       "      <td>2020-03-29</td>\n",
       "      <td>0.0</td>\n",
       "      <td>1</td>\n",
       "      <td>1</td>\n",
       "      <td>1</td>\n",
       "    </tr>\n",
       "    <tr>\n",
       "      <td>2020-03-30</td>\n",
       "      <td>962.0</td>\n",
       "      <td>0</td>\n",
       "      <td>0</td>\n",
       "      <td>1</td>\n",
       "    </tr>\n",
       "  </tbody>\n",
       "</table>\n",
       "<p>448 rows × 4 columns</p>\n",
       "</div>"
      ],
      "text/plain": [
       "                                  ep_tot  y_test  preds_test  is_correct\n",
       "Data_Aggiudicazione/Abilitazione                                        \n",
       "2019-01-08                          12.0       0           0           1\n",
       "2019-01-09                           2.0       1           0           0\n",
       "2019-01-10                        2496.0       0           0           1\n",
       "2019-01-11                           0.0       0           0           1\n",
       "2019-01-12                           0.0       0           0           1\n",
       "...                                  ...     ...         ...         ...\n",
       "2020-03-26                           1.0       1           0           0\n",
       "2020-03-27                         690.0       0           0           1\n",
       "2020-03-28                           0.0       0           0           1\n",
       "2020-03-29                           0.0       1           1           1\n",
       "2020-03-30                         962.0       0           0           1\n",
       "\n",
       "[448 rows x 4 columns]"
      ]
     },
     "execution_count": 333,
     "metadata": {},
     "output_type": "execute_result"
    }
   ],
   "source": [
    "df_preds_test['y_test'] = y_test \n",
    "df_preds_test['preds_test'] = preds_test\n",
    "df_preds_test['is_correct'] = (df_preds_test['y_test'] == df_preds_test['preds_test']).astype(int)\n",
    "df_preds_test.reindex(index_test)"
   ]
  },
  {
   "cell_type": "code",
   "execution_count": 334,
   "metadata": {},
   "outputs": [],
   "source": [
    "df_preds_test.reset_index(inplace=True)\n",
    "df_preds_test['Data_Aggiudicazione/Abilitazione'] = pd.to_datetime(df_preds_test['Data_Aggiudicazione/Abilitazione']).astype(np.int64)"
   ]
  },
  {
   "cell_type": "code",
   "execution_count": 335,
   "metadata": {},
   "outputs": [
    {
     "data": {
      "text/html": [
       "<div>\n",
       "<style scoped>\n",
       "    .dataframe tbody tr th:only-of-type {\n",
       "        vertical-align: middle;\n",
       "    }\n",
       "\n",
       "    .dataframe tbody tr th {\n",
       "        vertical-align: top;\n",
       "    }\n",
       "\n",
       "    .dataframe thead th {\n",
       "        text-align: right;\n",
       "    }\n",
       "</style>\n",
       "<table border=\"1\" class=\"dataframe\">\n",
       "  <thead>\n",
       "    <tr style=\"text-align: right;\">\n",
       "      <th></th>\n",
       "      <th>Data_Aggiudicazione/Abilitazione</th>\n",
       "      <th>ep_tot</th>\n",
       "      <th>y_test</th>\n",
       "      <th>preds_test</th>\n",
       "      <th>is_correct</th>\n",
       "    </tr>\n",
       "  </thead>\n",
       "  <tbody>\n",
       "    <tr>\n",
       "      <td>0</td>\n",
       "      <td>1546905600000000000</td>\n",
       "      <td>12.0</td>\n",
       "      <td>0</td>\n",
       "      <td>0</td>\n",
       "      <td>1</td>\n",
       "    </tr>\n",
       "    <tr>\n",
       "      <td>1</td>\n",
       "      <td>1546992000000000000</td>\n",
       "      <td>2.0</td>\n",
       "      <td>1</td>\n",
       "      <td>0</td>\n",
       "      <td>0</td>\n",
       "    </tr>\n",
       "    <tr>\n",
       "      <td>2</td>\n",
       "      <td>1547078400000000000</td>\n",
       "      <td>2496.0</td>\n",
       "      <td>0</td>\n",
       "      <td>0</td>\n",
       "      <td>1</td>\n",
       "    </tr>\n",
       "    <tr>\n",
       "      <td>3</td>\n",
       "      <td>1547164800000000000</td>\n",
       "      <td>0.0</td>\n",
       "      <td>0</td>\n",
       "      <td>0</td>\n",
       "      <td>1</td>\n",
       "    </tr>\n",
       "    <tr>\n",
       "      <td>4</td>\n",
       "      <td>1547251200000000000</td>\n",
       "      <td>0.0</td>\n",
       "      <td>0</td>\n",
       "      <td>0</td>\n",
       "      <td>1</td>\n",
       "    </tr>\n",
       "    <tr>\n",
       "      <td>...</td>\n",
       "      <td>...</td>\n",
       "      <td>...</td>\n",
       "      <td>...</td>\n",
       "      <td>...</td>\n",
       "      <td>...</td>\n",
       "    </tr>\n",
       "    <tr>\n",
       "      <td>443</td>\n",
       "      <td>1585180800000000000</td>\n",
       "      <td>1.0</td>\n",
       "      <td>1</td>\n",
       "      <td>0</td>\n",
       "      <td>0</td>\n",
       "    </tr>\n",
       "    <tr>\n",
       "      <td>444</td>\n",
       "      <td>1585267200000000000</td>\n",
       "      <td>690.0</td>\n",
       "      <td>0</td>\n",
       "      <td>0</td>\n",
       "      <td>1</td>\n",
       "    </tr>\n",
       "    <tr>\n",
       "      <td>445</td>\n",
       "      <td>1585353600000000000</td>\n",
       "      <td>0.0</td>\n",
       "      <td>0</td>\n",
       "      <td>0</td>\n",
       "      <td>1</td>\n",
       "    </tr>\n",
       "    <tr>\n",
       "      <td>446</td>\n",
       "      <td>1585440000000000000</td>\n",
       "      <td>0.0</td>\n",
       "      <td>1</td>\n",
       "      <td>1</td>\n",
       "      <td>1</td>\n",
       "    </tr>\n",
       "    <tr>\n",
       "      <td>447</td>\n",
       "      <td>1585526400000000000</td>\n",
       "      <td>962.0</td>\n",
       "      <td>0</td>\n",
       "      <td>0</td>\n",
       "      <td>1</td>\n",
       "    </tr>\n",
       "  </tbody>\n",
       "</table>\n",
       "<p>448 rows × 5 columns</p>\n",
       "</div>"
      ],
      "text/plain": [
       "     Data_Aggiudicazione/Abilitazione  ep_tot  y_test  preds_test  is_correct\n",
       "0                 1546905600000000000    12.0       0           0           1\n",
       "1                 1546992000000000000     2.0       1           0           0\n",
       "2                 1547078400000000000  2496.0       0           0           1\n",
       "3                 1547164800000000000     0.0       0           0           1\n",
       "4                 1547251200000000000     0.0       0           0           1\n",
       "..                                ...     ...     ...         ...         ...\n",
       "443               1585180800000000000     1.0       1           0           0\n",
       "444               1585267200000000000   690.0       0           0           1\n",
       "445               1585353600000000000     0.0       0           0           1\n",
       "446               1585440000000000000     0.0       1           1           1\n",
       "447               1585526400000000000   962.0       0           0           1\n",
       "\n",
       "[448 rows x 5 columns]"
      ]
     },
     "execution_count": 335,
     "metadata": {},
     "output_type": "execute_result"
    }
   ],
   "source": [
    "df_preds_test"
   ]
  },
  {
   "cell_type": "code",
   "execution_count": 336,
   "metadata": {},
   "outputs": [],
   "source": [
    "def get_date_from_int(intts):\n",
    "    ts = pd.to_datetime(intts)\n",
    "    return \"{}-{}-{}\".format(ts.year, ts.month, ts.day)\n",
    "    "
   ]
  },
  {
   "cell_type": "code",
   "execution_count": 339,
   "metadata": {},
   "outputs": [
    {
     "data": {
      "image/png": "[encoded data removed]",
      "text/plain": [
       "<Figure size 1080x432 with 1 Axes>"
      ]
     },
     "metadata": {
      "needs_background": "light"
     },
     "output_type": "display_data"
    }
   ],
   "source": [
    "colors = np.where(df_preds_test[\"is_correct\"]==1,'g','r')\n",
    "ax = df_preds_test.plot.scatter(x='Data_Aggiudicazione/Abilitazione', y='ep_tot' ,c=colors, figsize = (15, 6))\n",
    "ax.set_xticklabels([get_date_from_int(ts) for ts in ax.get_xticks()])\n",
    "ax.set_xlabel('day', fontsize=18)\n",
    "ax.set_ylabel('Partecipazioni', fontsize=18)\n",
    "for tick in ax.xaxis.get_major_ticks():\n",
    "    tick.label.set_fontsize(10) \n",
    "    # specify integer or one of preset strings, e.g.\n",
    "    #tick.label.set_fontsize('x-small') \n",
    "    tick.label.set_rotation('vertical')\n",
    "#ax = df_preds_test['ep_tot'].plot(style='.', color=colors)\n",
    "#ax.set_xticklabels(index_test)"
   ]
  }
 ],
 "metadata": {
  "kernelspec": {
   "display_name": "Python 3",
   "language": "python",
   "name": "python3"
  },
  "language_info": {
   "codemirror_mode": {
    "name": "ipython",
    "version": 3
   },
   "file_extension": ".py",
   "mimetype": "text/x-python",
   "name": "python",
   "nbconvert_exporter": "python",
   "pygments_lexer": "ipython3",
   "version": "3.7.4"
  }
 },
 "nbformat": 4,
 "nbformat_minor": 2
}
